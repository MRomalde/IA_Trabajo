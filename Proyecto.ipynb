{
 "cells": [
  {
   "cell_type": "code",
   "execution_count": 17,
   "id": "ec4bdb5c",
   "metadata": {},
   "outputs": [],
   "source": [
    "import pandas as pd\n",
    "import networkx as nx\n",
    "import matplotlib.pyplot as plt"
   ]
  },
  {
   "cell_type": "code",
   "execution_count": 21,
   "id": "9bb73987",
   "metadata": {},
   "outputs": [
    {
     "data": {
      "text/html": [
       "<div>\n",
       "<style scoped>\n",
       "    .dataframe tbody tr th:only-of-type {\n",
       "        vertical-align: middle;\n",
       "    }\n",
       "\n",
       "    .dataframe tbody tr th {\n",
       "        vertical-align: top;\n",
       "    }\n",
       "\n",
       "    .dataframe thead th {\n",
       "        text-align: right;\n",
       "    }\n",
       "</style>\n",
       "<table border=\"1\" class=\"dataframe\">\n",
       "  <thead>\n",
       "    <tr style=\"text-align: right;\">\n",
       "      <th></th>\n",
       "      <th>Name</th>\n",
       "      <th>HistoricalSignificance</th>\n",
       "      <th>Birthdate</th>\n",
       "      <th>Deathdate</th>\n",
       "      <th>ID</th>\n",
       "      <th>Gender</th>\n",
       "    </tr>\n",
       "  </thead>\n",
       "  <tbody>\n",
       "    <tr>\n",
       "      <th>0</th>\n",
       "      <td>Joseph Wyeth</td>\n",
       "      <td>religious writer</td>\n",
       "      <td>1663</td>\n",
       "      <td>1731</td>\n",
       "      <td>10013191</td>\n",
       "      <td>male</td>\n",
       "    </tr>\n",
       "    <tr>\n",
       "      <th>1</th>\n",
       "      <td>Alexander Skene of Newtyle</td>\n",
       "      <td>local politician and author</td>\n",
       "      <td>1621</td>\n",
       "      <td>1694</td>\n",
       "      <td>10011149</td>\n",
       "      <td>male</td>\n",
       "    </tr>\n",
       "    <tr>\n",
       "      <th>2</th>\n",
       "      <td>James Logan</td>\n",
       "      <td>colonial official and scholar</td>\n",
       "      <td>1674</td>\n",
       "      <td>1751</td>\n",
       "      <td>10007567</td>\n",
       "      <td>male</td>\n",
       "    </tr>\n",
       "    <tr>\n",
       "      <th>3</th>\n",
       "      <td>Dorcas Erbery</td>\n",
       "      <td>Quaker preacher</td>\n",
       "      <td>1656</td>\n",
       "      <td>1659</td>\n",
       "      <td>10003983</td>\n",
       "      <td>female</td>\n",
       "    </tr>\n",
       "    <tr>\n",
       "      <th>4</th>\n",
       "      <td>Lilias Skene</td>\n",
       "      <td>Quaker preacher and poet</td>\n",
       "      <td>1626</td>\n",
       "      <td>1697</td>\n",
       "      <td>10011152</td>\n",
       "      <td>male</td>\n",
       "    </tr>\n",
       "    <tr>\n",
       "      <th>5</th>\n",
       "      <td>William Mucklow</td>\n",
       "      <td>religious writer</td>\n",
       "      <td>1630</td>\n",
       "      <td>1713</td>\n",
       "      <td>10008595</td>\n",
       "      <td>male</td>\n",
       "    </tr>\n",
       "    <tr>\n",
       "      <th>6</th>\n",
       "      <td>Thomas Salthouse</td>\n",
       "      <td>Quaker preacher and writer</td>\n",
       "      <td>1630</td>\n",
       "      <td>1691</td>\n",
       "      <td>10010643</td>\n",
       "      <td>male</td>\n",
       "    </tr>\n",
       "    <tr>\n",
       "      <th>7</th>\n",
       "      <td>William Dewsbury</td>\n",
       "      <td>Quaker activist</td>\n",
       "      <td>1621</td>\n",
       "      <td>1688</td>\n",
       "      <td>10003478</td>\n",
       "      <td>male</td>\n",
       "    </tr>\n",
       "    <tr>\n",
       "      <th>8</th>\n",
       "      <td>John Audland</td>\n",
       "      <td>Quaker preacher</td>\n",
       "      <td>1630</td>\n",
       "      <td>1664</td>\n",
       "      <td>10000411</td>\n",
       "      <td>male</td>\n",
       "    </tr>\n",
       "    <tr>\n",
       "      <th>9</th>\n",
       "      <td>Richard Claridge</td>\n",
       "      <td>Quaker minister and schoolmaster</td>\n",
       "      <td>1649</td>\n",
       "      <td>1723</td>\n",
       "      <td>10002469</td>\n",
       "      <td>male</td>\n",
       "    </tr>\n",
       "  </tbody>\n",
       "</table>\n",
       "</div>"
      ],
      "text/plain": [
       "                         Name            HistoricalSignificance  Birthdate  \\\n",
       "0                Joseph Wyeth                  religious writer       1663   \n",
       "1  Alexander Skene of Newtyle       local politician and author       1621   \n",
       "2                 James Logan     colonial official and scholar       1674   \n",
       "3               Dorcas Erbery                   Quaker preacher       1656   \n",
       "4                Lilias Skene          Quaker preacher and poet       1626   \n",
       "5             William Mucklow                  religious writer       1630   \n",
       "6            Thomas Salthouse        Quaker preacher and writer       1630   \n",
       "7            William Dewsbury                   Quaker activist       1621   \n",
       "8                John Audland                   Quaker preacher       1630   \n",
       "9            Richard Claridge  Quaker minister and schoolmaster       1649   \n",
       "\n",
       "   Deathdate        ID  Gender  \n",
       "0       1731  10013191    male  \n",
       "1       1694  10011149    male  \n",
       "2       1751  10007567    male  \n",
       "3       1659  10003983  female  \n",
       "4       1697  10011152    male  \n",
       "5       1713  10008595    male  \n",
       "6       1691  10010643    male  \n",
       "7       1688  10003478    male  \n",
       "8       1664  10000411    male  \n",
       "9       1723  10002469    male  "
      ]
     },
     "execution_count": 21,
     "metadata": {},
     "output_type": "execute_result"
    }
   ],
   "source": [
    "#cargamos nodos\n",
    "nodos=pd.read_csv('quakers_nodelist.csv',header=None,\n",
    "                 names=['Name','HistoricalSignificance','Birthdate','Deathdate','ID','Gender'])\n",
    "#cargamos aristas\n",
    "aristas=pd.read_csv('quakers_edgelist.csv',header=None,\n",
    "                   names=['Source','Target'])\n",
    "\n",
    "nodos.head(10)"
   ]
  },
  {
   "cell_type": "code",
   "execution_count": 22,
   "id": "d90d6572",
   "metadata": {},
   "outputs": [
    {
     "data": {
      "text/html": [
       "<div>\n",
       "<style scoped>\n",
       "    .dataframe tbody tr th:only-of-type {\n",
       "        vertical-align: middle;\n",
       "    }\n",
       "\n",
       "    .dataframe tbody tr th {\n",
       "        vertical-align: top;\n",
       "    }\n",
       "\n",
       "    .dataframe thead th {\n",
       "        text-align: right;\n",
       "    }\n",
       "</style>\n",
       "<table border=\"1\" class=\"dataframe\">\n",
       "  <thead>\n",
       "    <tr style=\"text-align: right;\">\n",
       "      <th></th>\n",
       "      <th>Source</th>\n",
       "      <th>Target</th>\n",
       "    </tr>\n",
       "  </thead>\n",
       "  <tbody>\n",
       "    <tr>\n",
       "      <th>0</th>\n",
       "      <td>George Keith</td>\n",
       "      <td>Robert Barclay</td>\n",
       "    </tr>\n",
       "    <tr>\n",
       "      <th>1</th>\n",
       "      <td>George Keith</td>\n",
       "      <td>Benjamin Furly</td>\n",
       "    </tr>\n",
       "    <tr>\n",
       "      <th>2</th>\n",
       "      <td>George Keith</td>\n",
       "      <td>Anne Conway Viscountess Conway and Killultagh</td>\n",
       "    </tr>\n",
       "    <tr>\n",
       "      <th>3</th>\n",
       "      <td>George Keith</td>\n",
       "      <td>Franciscus Mercurius van Helmont</td>\n",
       "    </tr>\n",
       "    <tr>\n",
       "      <th>4</th>\n",
       "      <td>George Keith</td>\n",
       "      <td>William Penn</td>\n",
       "    </tr>\n",
       "    <tr>\n",
       "      <th>5</th>\n",
       "      <td>George Keith</td>\n",
       "      <td>George Fox</td>\n",
       "    </tr>\n",
       "    <tr>\n",
       "      <th>6</th>\n",
       "      <td>George Keith</td>\n",
       "      <td>George Whitehead</td>\n",
       "    </tr>\n",
       "    <tr>\n",
       "      <th>7</th>\n",
       "      <td>George Keith</td>\n",
       "      <td>William Bradford</td>\n",
       "    </tr>\n",
       "    <tr>\n",
       "      <th>8</th>\n",
       "      <td>James Parnel</td>\n",
       "      <td>Benjamin Furly</td>\n",
       "    </tr>\n",
       "    <tr>\n",
       "      <th>9</th>\n",
       "      <td>James Parnel</td>\n",
       "      <td>Stephen Crisp</td>\n",
       "    </tr>\n",
       "  </tbody>\n",
       "</table>\n",
       "</div>"
      ],
      "text/plain": [
       "         Source                                         Target\n",
       "0  George Keith                                 Robert Barclay\n",
       "1  George Keith                                 Benjamin Furly\n",
       "2  George Keith  Anne Conway Viscountess Conway and Killultagh\n",
       "3  George Keith               Franciscus Mercurius van Helmont\n",
       "4  George Keith                                   William Penn\n",
       "5  George Keith                                     George Fox\n",
       "6  George Keith                               George Whitehead\n",
       "7  George Keith                               William Bradford\n",
       "8  James Parnel                                 Benjamin Furly\n",
       "9  James Parnel                                  Stephen Crisp"
      ]
     },
     "execution_count": 22,
     "metadata": {},
     "output_type": "execute_result"
    }
   ],
   "source": [
    "aristas.head(10)"
   ]
  },
  {
   "cell_type": "code",
   "execution_count": 23,
   "id": "4c4ece31",
   "metadata": {},
   "outputs": [],
   "source": [
    "#construimos el grafo\n",
    "graph = nx.Graph()\n",
    "#añadimos los nodos\n",
    "for name,historicalSignificance,gender,birthdate,deathdate,Id in zip(nodos['Name'],nodos['HistoricalSignificance'],nodos['Gender'],nodos['Birthdate'],nodos['Deathdate'],nodos['ID']):\n",
    "    graph.add_node(name, Name=name,HistoricalSignificance=historicalSignificance,Gender=gender,Birthdate=birthdate,Deathdate=deathdate,Id=Id)\n",
    "#añadimos las aristas\n",
    "for source,target in zip(aristas['Source'],aristas['Target']):\n",
    "    graph.add_edge(source,target)\n",
    "#print(list(graph.nodes))\n",
    "#print(list(graph.edges))\n",
    "#graph.nodes.data()\n",
    "#graph.edges.data()\n",
    "#graph.number_of_nodes()"
   ]
  },
  {
   "cell_type": "code",
   "execution_count": 24,
   "id": "3aaa3b52",
   "metadata": {},
   "outputs": [
    {
     "data": {
      "image/png": "[encoded data removed]",
      "text/plain": [
       "<Figure size 432x288 with 1 Axes>"
      ]
     },
     "metadata": {},
     "output_type": "display_data"
    }
   ],
   "source": [
    "#dibujamos el grafo\n",
    "nx.draw_kamada_kawai(graph)\n",
    "plt.show()"
   ]
  },
  {
   "cell_type": "code",
   "execution_count": 25,
   "id": "bd9d0859",
   "metadata": {},
   "outputs": [],
   "source": [
    "from sklearn import preprocessing"
   ]
  },
  {
   "cell_type": "code",
   "execution_count": 26,
   "id": "0860f3a2",
   "metadata": {},
   "outputs": [],
   "source": [
    "atributos = nodos.loc[:,'Name':'ID']\n",
    "objetivo = nodos['Gender']"
   ]
  },
  {
   "cell_type": "code",
   "execution_count": 140,
   "id": "8098c9bb",
   "metadata": {},
   "outputs": [
    {
     "name": "stdout",
     "output_type": "stream",
     "text": [
      "[array(['Alexander Parker', 'Alexander Skene of Newtyle', 'Alice Curwen',\n",
      "       'Anne Camm', 'Anne Conway Viscountess Conway and Killultagh',\n",
      "       'Anthony Pearson', 'Anthony Sharp', 'Benjamin Furly',\n",
      "       'Charles Marshall', 'Christopher Taylor', 'Daniel Quare',\n",
      "       'David Barclay', 'David Barclay of Ury', 'David Lloyd',\n",
      "       'Dorcas Erbery', 'Dorothy Waugh', 'Edward Burrough',\n",
      "       'Edward Haistwell', 'Edward Pyott', 'Elizabeth Hooten',\n",
      "       'Elizabeth Leavens', 'Ellis Hookes', 'Fettiplace Bellers',\n",
      "       'Francis Bugg', 'Francis Howgill',\n",
      "       'Franciscus Mercurius van Helmont', 'George Bishop', 'George Fox',\n",
      "       'George Fox the younger', 'George Keith', 'George Whitehead',\n",
      "       'Gervase Benson', 'Gideon Wanton', 'Gilbert Latey',\n",
      "       'Grace Chamber', 'Hannah Stranger', 'Henry Pickworth',\n",
      "       'Humphrey Norton', 'Humphrey Woolrich', 'Isaac Norris',\n",
      "       'Isabel Yeamans', 'James Claypoole', 'James Logan', 'James Nayler',\n",
      "       'James Parnel', 'Jane Sowle', 'John Audland', 'John Bartram',\n",
      "       'John Bellers', 'John Burnyeat', 'John Camm', 'John Crook',\n",
      "       'John Freame', 'John Penington', 'John Perrot', 'John Rous',\n",
      "       'John Story', 'John Stubbs', 'John Swinton', 'John Wanton',\n",
      "       'John Whitehead', 'John Whiting', 'John Wilkinson', 'John ap John',\n",
      "       'Joseph Besse', 'Joseph Wyeth', 'Katharine Evans', 'Leonard Fell',\n",
      "       'Lewis Morris', 'Lilias Skene', 'Lydia Lancaster', 'Margaret Fell',\n",
      "       'Martha Simmonds', 'Mary Fisher', 'Mary Penington',\n",
      "       'Mary Pennyman', 'Mary Prince', 'Peter Collinson',\n",
      "       'Rebecca Travers', 'Richard Claridge', 'Richard Farnworth',\n",
      "       'Richard Hubberthorne', 'Richard Vickris', 'Robert Barclay',\n",
      "       'Robert Rich', 'Samuel Bownas', 'Samuel Clarridge',\n",
      "       'Samuel Fisher', 'Sarah Cheevers', 'Sarah Gibbons',\n",
      "       'Silvanus Bevan', 'Sir Charles Wager', 'Solomon Eccles',\n",
      "       'Stephen Crisp', 'Tace Sowle', 'Thomas Aldam', 'Thomas Camm',\n",
      "       'Thomas Curtis', 'Thomas Ellwood', 'Thomas Holme', 'Thomas Lawson',\n",
      "       'Thomas Lower', 'Thomas Salthouse', 'Thomas Story',\n",
      "       'Thomas Taylor', 'William Ames', 'William Bradford',\n",
      "       'William Caton', 'William Coddington', 'William Crouch',\n",
      "       'William Dewsbury', 'William Edmundson', 'William Gibson',\n",
      "       'William Mead', 'William Mucklow', 'William Penn',\n",
      "       'William Rogers', 'William Simpson', 'William Tomlinson'],\n",
      "      dtype=object), array([' a founder of the Religious Society of Friends (Quakers)',\n",
      "       'Quaker activist', 'Quaker activist and physician',\n",
      "       'Quaker activist and writer', 'Quaker adherent and sectary',\n",
      "       'Quaker administrator', 'Quaker and author', 'Quaker and writer',\n",
      "       'Quaker apologist and controversialist', 'Quaker apostate',\n",
      "       'Quaker bibliographer and writer', 'Quaker leader',\n",
      "       'Quaker leader and founder of Pennsylvania',\n",
      "       'Quaker leader and writer', 'Quaker martyr', 'Quaker minister',\n",
      "       'Quaker minister and botanist',\n",
      "       'Quaker minister and journal writer',\n",
      "       'Quaker minister and preacher', 'Quaker minister and schoolmaster',\n",
      "       'Quaker minister and writer', 'Quaker missionary',\n",
      "       'Quaker missionary and author', 'Quaker missionary and writer',\n",
      "       'Quaker patron and merchant ', 'Quaker preacher',\n",
      "       'Quaker preacher and apothecary', 'Quaker preacher and author',\n",
      "       'Quaker preacher and poet', 'Quaker preacher and writer',\n",
      "       'Quaker preacher in America', 'Quaker schismatic',\n",
      "       'Quaker schismatic and Church of England clergyman', 'apothecary',\n",
      "       'banker and lobbyist', 'botanist',\n",
      "       'botanist and explorer in America',\n",
      "       'colonial official and merchant', 'colonial official and scholar',\n",
      "       'government official and religious writer',\n",
      "       'historian of Quakerism', 'lawyer and politician in America',\n",
      "       'local politician and author', 'maker of clocks', 'merchant',\n",
      "       'merchant and colonial governor',\n",
      "       'merchant and official in America',\n",
      "       'merchant and pioneer settler in America',\n",
      "       'merchant and religious writer', 'musician and Quaker missionary',\n",
      "       'naval officer and politician', 'parliamentarian army officer',\n",
      "       'philosopher', 'philosophical writer and playwright',\n",
      "       'physician and cabbalist',\n",
      "       'political economist and cloth merchant', 'politician ',\n",
      "       'politician in America', 'printer', 'printer and bookseller',\n",
      "       'religious controversialist', 'religious writer',\n",
      "       'religious writer and colonial governor',\n",
      "       'religious writer and schoolmaster', 'soldier and politician'],\n",
      "      dtype=object), array([1551, 1552, 1555, 1558, 1560, 1562, 1569, 1571, 1585, 1590, 1601,\n",
      "       1602, 1604, 1605, 1607, 1608, 1609, 1610, 1614, 1616, 1617, 1618,\n",
      "       1619, 1620, 1621, 1623, 1624, 1625, 1626, 1627, 1628, 1630, 1631,\n",
      "       1633, 1634, 1635, 1636, 1637, 1638, 1639, 1640, 1643, 1644, 1648,\n",
      "       1649, 1650, 1652, 1654, 1655, 1656, 1658, 1663, 1665, 1666, 1670,\n",
      "       1671, 1672, 1673, 1674, 1676, 1677, 1682, 1683, 1687, 1691, 1693,\n",
      "       1694, 1699], dtype=int64), array([1656, 1657, 1659, 1660, 1661, 1662, 1663, 1664, 1665, 1666, 1668,\n",
      "       1669, 1670, 1671, 1672, 1675, 1678, 1679, 1681, 1682, 1683, 1684,\n",
      "       1686, 1687, 1688, 1689, 1690, 1691, 1692, 1694, 1695, 1696, 1697,\n",
      "       1698, 1699, 1700, 1701, 1702, 1704, 1705, 1707, 1708, 1709, 1710,\n",
      "       1711, 1712, 1713, 1714, 1716, 1718, 1720, 1722, 1723, 1724, 1725,\n",
      "       1727, 1731, 1735, 1738, 1740, 1742, 1743, 1745, 1746, 1749, 1750,\n",
      "       1751, 1752, 1753, 1757, 1761, 1762, 1765, 1767, 1768, 1769, 1777],\n",
      "      dtype=int64), array([10000099, 10000175, 10000243, 10000411, 10000621, 10000622,\n",
      "       10000745, 10000933, 10000934, 10000972, 10001027, 10001041,\n",
      "       10001097, 10001390, 10001445, 10001737, 10001815, 10001818,\n",
      "       10001967, 10001968, 10001969, 10002203, 10002274, 10002354,\n",
      "       10002469, 10002504, 10002513, 10002606, 10002694, 10002755,\n",
      "       10003022, 10003063, 10003087, 10003161, 10003162, 10003478,\n",
      "       10003859, 10003882, 10003945, 10003983, 10004036, 10004141,\n",
      "       10004169, 10004170, 10004290, 10004292, 10004523, 10004524,\n",
      "       10004564, 10004625, 10004811, 10004827, 10005359, 10005781,\n",
      "       10006100, 10006146, 10006153, 10006305, 10006314, 10006784,\n",
      "       10007110, 10007166, 10007210, 10007246, 10007509, 10007567,\n",
      "       10007626, 10007992, 10008161, 10008534, 10008595, 10008713,\n",
      "       10008884, 10008917, 10009307, 10009347, 10009470, 10009526,\n",
      "       10009527, 10009531, 10009535, 10009584, 10009697, 10009959,\n",
      "       10010036, 10010037, 10010260, 10010417, 10010488, 10010643,\n",
      "       10010941, 10011100, 10011114, 10011149, 10011152, 10011331,\n",
      "       10011332, 10011613, 10011614, 10011632, 10011695, 10011742,\n",
      "       10011811, 10011824, 10011989, 10012062, 10012350, 10012403,\n",
      "       10012509, 10012510, 10012614, 10012813, 10012815, 10012829,\n",
      "       10012893, 10013112, 10013191, 10013226, 10054848], dtype=int64)]\n"
     ]
    }
   ],
   "source": [
    "# Para realizar una codificación de los datos, se crea una instancia del tipo de\n",
    "# codificación pretendida y se ajusta a los datos disponibles mediante el método fit.\n",
    "\n",
    "codificador_atributos = preprocessing.OrdinalEncoder()\n",
    "codificador_atributos.fit(atributos)\n",
    "\n",
    "#Con este comando miras los valores que puede haber cuando el atributo ya esta codificado\n",
    "print(codificador_atributos.categories_)"
   ]
  },
  {
   "cell_type": "code",
   "execution_count": 90,
   "id": "8d0cc66a",
   "metadata": {},
   "outputs": [
    {
     "name": "stdout",
     "output_type": "stream",
     "text": [
      "[[ 65.  61.  51.  56. 116.]\n",
      " [  1.  42.  24.  29.  93.]\n",
      " [ 42.  38.  58.  66.  65.]\n",
      " [ 14.  25.  49.   2.  39.]\n",
      " [ 69.  28.  28.  32.  94.]\n",
      " [114.  61.  31.  46.  70.]\n",
      " [102.  29.  31.  27.  89.]\n",
      " [110.   1.  24.  24.  35.]\n",
      " [ 46.  25.  31.   7.   3.]\n",
      " [ 79.  19.  44.  52.  24.]\n",
      " [106.  58.  51.  67.  14.]\n",
      " [ 22.  53.  63.  65.   7.]\n",
      " [ 48.  55.  47.  54.   8.]\n",
      " [ 40.  25.  37.  38. 117.]\n",
      " [ 28.  61.   0.   4.  46.]\n",
      " [ 27.   0.  26.  27.  47.]\n",
      " [ 57.  15.  21.  15. 100.]\n",
      " [  3.  25.  29.  39.  18.]\n",
      " [ 50.  25.  13.   1.  19.]\n",
      " [ 96.  29.  40.  41.  20.]\n",
      " [ 66.  21.  21.  28.  40.]\n",
      " [ 70.  15.  62.  70.  60.]\n",
      " [ 86.   1.  32.  38.  25.]\n",
      " [101.   2.  33.  50.  66.]\n",
      " [ 31.  11.   6.  17.   9.]\n",
      " [ 93.   3.  30.  28.  30.]\n",
      " [ 41.  47.  34.  23.  26.]\n",
      " [ 99.  21.  28.   9.  54.]\n",
      " [ 52.  34.  52.  62.  48.]\n",
      " [ 58.  56.  23.  17. 101.]\n",
      " [113.  24.  29.  46.  68.]\n",
      " [ 36.  60.  57.  58.  82.]\n",
      " [ 51.  13.  19.  34.  31.]\n",
      " [ 33.   1.  28.  39.  61.]\n",
      " [ 21.   5.  35.  18.  55.]\n",
      " [ 64.  40.  62.  69.  10.]\n",
      " [ 43.  29.  21.   3.  71.]\n",
      " [ 19.  25.   5.  14.  56.]\n",
      " [ 30.  13.  37.  53. 111.]\n",
      " [ 60.  18.  31.  31. 112.]\n",
      " [109.  13.  30.  44.  32.]\n",
      " [  7.  48.  36.  47.  49.]\n",
      " [ 90.  33.  64.  72.  11.]\n",
      " [ 84.   4.  14.  17.  86.]\n",
      " [ 61.  10.  49.  51. 113.]\n",
      " [  9.  63.  18.  22. 102.]\n",
      " [100.  16.  31.  27.  62.]\n",
      " [ 80.  29.  31.   9.  41.]\n",
      " [108.  46.  10.  16.  27.]\n",
      " [104.  20.  20.  19. 103.]\n",
      " [ 82.  61.   9.  35. 106.]\n",
      " [ 83.  62.  43.  26. 118.]\n",
      " [ 45.  62.  32.  44.  95.]\n",
      " [ 94.  59.  53.  64.  96.]\n",
      " [ 67.  23.  26.  36.  42.]\n",
      " [ 71.  11.  18.  37.  43.]\n",
      " [ 26.  39.   3.  10.  12.]\n",
      " [ 20.  21.   2.   8.  63.]\n",
      " [ 97.  31.  11.  45.  33.]\n",
      " [  2.  21.  22.  17.  34.]\n",
      " [  0.  27.  30.  25.  74.]\n",
      " [ 62.  31.  46.  20. 114.]\n",
      " [ 95.  29.  19.   3.   0.]\n",
      " [ 12.  64.  17.  22.   4.]\n",
      " [ 11.  44.  61.  75.   5.]\n",
      " [ 91.  50.  53.  61. 107.]\n",
      " [ 29.  32.  38.  48.  59.]\n",
      " [ 44.  14.  36.   0.  75.]\n",
      " [ 77.  35.  66.  74.  28.]\n",
      " [ 25.  54.  18.  33.  53.]\n",
      " [107.  25.  36.   8.  21.]\n",
      " [ 24.   1.  21.  11.  57.]\n",
      " [ 81.   1.  30.   5.  58.]\n",
      " [105.  25.   1.   5.   1.]\n",
      " [116.  31.  10.  44.  87.]\n",
      " [ 39.  37.  55.  57.  72.]\n",
      " [  6.  11.  41.  40.  90.]\n",
      " [ 73.  21.  25.  33.  44.]\n",
      " [  4.  52.  32.  17.  29.]\n",
      " [ 87.  29.  12.   8.  45.]\n",
      " [ 23.   9.  40.  55.  15.]\n",
      " [ 89.  30.  34.   2.  50.]\n",
      " [118.  61.  45.  31. 104.]\n",
      " [ 37.  22.  48.   3.  73.]\n",
      " [112.  11.  30.  21.  51.]\n",
      " [ 32.  45.  65.  73. 108.]\n",
      " [ 59.  45.  56.  59. 109.]\n",
      " [ 34.  15.  59.  71.  22.]\n",
      " [ 76.  25.   6.  17.  83.]\n",
      " [ 47.  36.  67.  76.   6.]\n",
      " [ 17.  44.  50.  42.  52.]\n",
      " [ 63.  11.  27.  32.   2.]\n",
      " [ 55.  21.   8.  30.  88.]\n",
      " [  5.   5.  29.   9.  76.]\n",
      " [ 92.  49.  20.  19.  36.]\n",
      " [ 49.  15.  32.  26.  16.]\n",
      " [ 16.   3.  33.   6.  17.]\n",
      " [ 78.  29.  16.  24. 105.]\n",
      " [111.  11.  29.  45.  37.]\n",
      " [ 88.  21.  15.   7.  23.]\n",
      " [ 18.  51.   4.  12.  84.]\n",
      " [ 10.  43.  43.  53.  85.]\n",
      " [ 53.   8.  48.  43.  77.]\n",
      " [ 74.   7.  25.  19.  78.]\n",
      " [  8.  26.  37.  33.  67.]\n",
      " [ 38.  61.  33.  40. 115.]\n",
      " [115.  12.  42.  49.  79.]\n",
      " [ 75.  12.  31.  36.  80.]\n",
      " [ 15.  25.  36.   9. 110.]\n",
      " [ 13.  41.  49.  56.  64.]\n",
      " [ 68.  57.  55.  63.  69.]\n",
      " [ 72.   6.  26.   8.  91.]\n",
      " [ 56.  31.   7.  18.  97.]\n",
      " [103.  17.  54.  60.  98.]\n",
      " [ 98.  60.  39.  46.  38.]\n",
      " [117.  25.  29.  13.  92.]\n",
      " [ 85.  20.  60.  68.  13.]\n",
      " [ 54.  31.   2.   8.  81.]\n",
      " [ 35.  21.  49.  13.  99.]]\n"
     ]
    }
   ],
   "source": [
    "# Una vez ajustado el codificador, el método transform permite codificar los\n",
    "# valores de los atributos\n",
    "atributos_codificados = codificador_atributos.transform(atributos)\n",
    "print(atributos_codificados)"
   ]
  },
  {
   "cell_type": "code",
   "execution_count": 29,
   "id": "eae10c28",
   "metadata": {},
   "outputs": [],
   "source": [
    "# El codificador adecuado para la variable objetivo es LabelEncoder, que trabaja\n",
    "# con una lista o array unidimensional de sus valores\n",
    "codificador_objetivo = preprocessing.LabelEncoder()\n",
    "# El método fit_transform ajusta la codificación y la aplica a los datos justo\n",
    "# a continuación\n",
    "objetivo_codificado = codificador_objetivo.fit_transform(objetivo)"
   ]
  },
  {
   "cell_type": "code",
   "execution_count": 30,
   "id": "b98678fe",
   "metadata": {},
   "outputs": [
    {
     "name": "stdout",
     "output_type": "stream",
     "text": [
      "['female' 'male']\n"
     ]
    }
   ],
   "source": [
    "# Clases detectadas por el codificador para la variable objetivo\n",
    "print(codificador_objetivo.classes_)"
   ]
  },
  {
   "cell_type": "code",
   "execution_count": 31,
   "id": "6170abd0",
   "metadata": {},
   "outputs": [
    {
     "name": "stdout",
     "output_type": "stream",
     "text": [
      "[1 1 1 0 1 1 1 1 1 1 1 1 1 0 1 1 1 0 1 1 0 0 1 1 1 1 1 1 1 1 1 1 1 1 1 1 1\n",
      " 0 1 1 1 1 1 1 1 1 1 1 1 1 1 1 0 1 1 0 1 0 1 0 1 1 1 1 1 1 1 1 1 1 1 1 1 1\n",
      " 1 1 1 0 0 1 1 0 1 1 1 1 1 0 0 1 1 1 1 1 1 1 1 0 1 0 1 1 1 0 1 1 1 0 0 1 1\n",
      " 0 1 1 1 1 1 1 0]\n",
      "['male' 'female' 'male']\n"
     ]
    }
   ],
   "source": [
    "#1 es male, 0 es female\n",
    "print(objetivo_codificado)\n",
    "# Las respuestas predichas por los modelos estarán codificadas, pero el codificador\n",
    "# también permite descodificarlas\n",
    "print(codificador_objetivo.inverse_transform([1, 0, 1]))"
   ]
  },
  {
   "cell_type": "code",
   "execution_count": 32,
   "id": "6ea35e85",
   "metadata": {},
   "outputs": [
    {
     "name": "stdout",
     "output_type": "stream",
     "text": [
      "male      0.815126\n",
      "female    0.184874\n",
      "Name: Gender, dtype: float64\n"
     ]
    }
   ],
   "source": [
    "# Cantidad total de ejemplos\n",
    "#print(nodos.shape[0])\n",
    "# Frecuencia total de cada clase de aceptabilidad (porcentaje de cada valor objetivo en nuestro conjunto)\n",
    "print(pd.Series(objetivo).value_counts(normalize=True))"
   ]
  },
  {
   "cell_type": "code",
   "execution_count": 33,
   "id": "2a977f77",
   "metadata": {},
   "outputs": [],
   "source": [
    "from sklearn import model_selection"
   ]
  },
  {
   "cell_type": "code",
   "execution_count": 34,
   "id": "241cdfdd",
   "metadata": {},
   "outputs": [],
   "source": [
    "(atributos_entrenamiento, atributos_prueba,\n",
    " objetivo_entrenamiento, objetivo_prueba) = model_selection.train_test_split(\n",
    "        # Conjuntos de datos a dividir, usando los mismos índices para ambos\n",
    "        atributos_codificados, objetivo_codificado,\n",
    "        # Valor de la semilla aleatoria, para que el muestreo sea reproducible,\n",
    "        # a pesar de ser aleatorio\n",
    "        random_state=12345,\n",
    "        # Tamaño del conjunto de prueba\n",
    "        test_size=.20,\n",
    "        # Estratificamos respecto a la distribución de valores en la variable objetivo\n",
    "        stratify=objetivo_codificado)"
   ]
  },
  {
   "cell_type": "code",
   "execution_count": 35,
   "id": "763a752f",
   "metadata": {},
   "outputs": [
    {
     "name": "stdout",
     "output_type": "stream",
     "text": [
      "Cantidad de ejemplos de pruebas requeridos: 23.8\n",
      "Filas del array de atributos de prueba: 24\n",
      "Longitud del vector de objetivos de prueba: 24\n",
      "Proporción de clases en el vector de objetivos de prueba:\n",
      "male      0.833333\n",
      "female    0.166667\n",
      "dtype: float64\n"
     ]
    }
   ],
   "source": [
    "#Comprobamos que tiene todo los valores correctos del conjunto de pruebas\n",
    "print('Cantidad de ejemplos de pruebas requeridos:', 119 * .20)\n",
    "print('Filas del array de atributos de prueba:', atributos_prueba.shape[0])\n",
    "print('Longitud del vector de objetivos de prueba:', len(objetivo_prueba))\n",
    "print('Proporción de clases en el vector de objetivos de prueba:')\n",
    "print(pd.Series(\n",
    "        codificador_objetivo.inverse_transform(objetivo_prueba)\n",
    "      ).value_counts(normalize=True))"
   ]
  },
  {
   "cell_type": "code",
   "execution_count": 36,
   "id": "d9f9f5cc",
   "metadata": {},
   "outputs": [
    {
     "name": "stdout",
     "output_type": "stream",
     "text": [
      "Cantidad de ejemplos de entrenamiento requeridos: 95.2\n",
      "Filas del array de atributos de entrenamiento: 95\n",
      "Longitud del vector de objetivos de entrenamiento: 95\n",
      "Proporción de clases en el vector de objetivos de entrenamiento:\n",
      "male      0.810526\n",
      "female    0.189474\n",
      "dtype: float64\n"
     ]
    }
   ],
   "source": [
    "#Comprobamos que tiene todo los valores correctos del conjunto de pruebas\n",
    "print('Cantidad de ejemplos de entrenamiento requeridos:', 119 * .80)\n",
    "print('Filas del array de atributos de entrenamiento:', atributos_entrenamiento.shape[0])\n",
    "print('Longitud del vector de objetivos de entrenamiento:', len(objetivo_entrenamiento))\n",
    "print('Proporción de clases en el vector de objetivos de entrenamiento:')\n",
    "print(pd.Series(# Comprobamos que el \n",
    "        codificador_objetivo.inverse_transform(objetivo_entrenamiento)\n",
    "      ).value_counts(normalize=True))"
   ]
  },
  {
   "cell_type": "markdown",
   "id": "45c8fdf9",
   "metadata": {},
   "source": [
    "Para realizar aprendizaje supervisado en _sklearn_, basta crear una instancia de la clase de objetos que implemente el modelo que se quiera utilizar (_naive_ Bayes, árboles de decisión, _kNN_, etc.).\n",
    "\n",
    "Cada una de estas instancias dispondrá de los siguientes métodos:\n",
    "* El método `fit` permite entrenar el modelo, dados __por separado__ el conjunto de ejemplos de entrenamiento y la clase de cada uno de estos ejemplos.\n",
    "* El método `predict` permite clasificar un nuevo ejemplo una vez entrenado el modelo.\n",
    "* El método `score` calcula el rendimiento del modelo, dados __por separado__ el conjunto de ejemplos de prueba y la clase de cada uno de estos ejemplos."
   ]
  },
  {
   "cell_type": "code",
   "execution_count": 37,
   "id": "e9c7ead7",
   "metadata": {},
   "outputs": [],
   "source": [
    "#Hasta aqui lo he hemos hecho ha sido leer del csv los datos, meterlos en 1 conjunto de entrenamiento (80%)\n",
    "#y otro de pruebas(20%), despues hemos codificado, estos datos para que sean utilizables por los modelos\n",
    "#y ahora vamos a definir los modelos para hacer el entrenamiento de la maquina.\n",
    "#El primero a utilizar será Naive Bayes\n",
    "from sklearn import naive_bayes\n",
    "#print(atributos_entrenamiento)\n",
    "#print(objetivo_entrenamiento)\n",
    "#Aqui hemos tenido que arreglar el dataset porque había algunas incongruencias, y hemos tenido que cambiar algunos datos,\n",
    "#esto nos ha llevado 1 dia saber porque fallaba"
   ]
  },
  {
   "cell_type": "code",
   "execution_count": 38,
   "id": "8c94530f",
   "metadata": {},
   "outputs": [
    {
     "data": {
      "text/plain": [
       "CategoricalNB()"
      ]
     },
     "execution_count": 38,
     "metadata": {},
     "output_type": "execute_result"
    }
   ],
   "source": [
    "#definimos nuestro parámetro de suavizado\n",
    "clasif_NB = naive_bayes.CategoricalNB(alpha=1.0)\n",
    "#llamamos al metodo .fit para entrenar nuestro modelo\n",
    "clasif_NB.fit(atributos_entrenamiento, objetivo_entrenamiento)"
   ]
  },
  {
   "cell_type": "code",
   "execution_count": 39,
   "id": "6c763d8e",
   "metadata": {},
   "outputs": [
    {
     "name": "stdout",
     "output_type": "stream",
     "text": [
      "Cantidad de ejemplos para la clase female: 18.0\n",
      "Logaritmo de la probabilidad aprendida para la clase female: -1.6635051337043762\n",
      "Cantidad de ejemplos para la clase male: 77.0\n",
      "Logaritmo de la probabilidad aprendida para la clase male: -0.21007146974685664\n"
     ]
    }
   ],
   "source": [
    "for clase, cantidad_ejemplos_clase, log_probabilidad_clase in zip(\n",
    "    codificador_objetivo.classes_, clasif_NB.class_count_, clasif_NB.class_log_prior_):\n",
    "        print(f'Cantidad de ejemplos para la clase {clase}: {cantidad_ejemplos_clase}')\n",
    "        print(f'Logaritmo de la probabilidad aprendida para la clase {clase}: {log_probabilidad_clase}')"
   ]
  },
  {
   "cell_type": "code",
   "execution_count": 133,
   "id": "9593a780",
   "metadata": {},
   "outputs": [
    {
     "name": "stdout",
     "output_type": "stream",
     "text": [
      "Cantidad de ejemplos para el atributo Name:\n",
      "        Alexander Parker  Alexander Skene of Newtyle  Alice Curwen  Anne Camm  \\\n",
      "female               0.0                         0.0           1.0        0.0   \n",
      "male                 1.0                         1.0           0.0        0.0   \n",
      "\n",
      "        Anne Conway Viscountess Conway and Killultagh  Anthony Pearson  \\\n",
      "female                                            1.0              0.0   \n",
      "male                                              0.0              1.0   \n",
      "\n",
      "        Anthony Sharp  Benjamin Furly  Charles Marshall  Christopher Taylor  \\\n",
      "female            0.0             0.0               0.0                 0.0   \n",
      "male              1.0             1.0               1.0                 1.0   \n",
      "\n",
      "        ...  William Crouch  William Dewsbury  William Edmundson  \\\n",
      "female  ...             0.0               0.0                0.0   \n",
      "male    ...             0.0               1.0                0.0   \n",
      "\n",
      "        William Gibson  William Mead  William Mucklow  William Penn  \\\n",
      "female             0.0           0.0              0.0           0.0   \n",
      "male               1.0           1.0              1.0           1.0   \n",
      "\n",
      "        William Rogers  William Simpson  William Tomlinson  \n",
      "female             0.0              0.0                0.0  \n",
      "male               0.0              1.0                1.0  \n",
      "\n",
      "[2 rows x 119 columns]\n",
      "Logaritmos de las probabilidades aprendidas para el atributo Name:\n",
      "        Alexander Parker  Alexander Skene of Newtyle  Alice Curwen  Anne Camm  \\\n",
      "female         -4.919981                   -4.919981     -4.226834  -4.919981   \n",
      "male           -4.584967                   -4.584967     -5.278115  -5.278115   \n",
      "\n",
      "        Anne Conway Viscountess Conway and Killultagh  Anthony Pearson  \\\n",
      "female                                      -4.226834        -4.919981   \n",
      "male                                        -5.278115        -4.584967   \n",
      "\n",
      "        Anthony Sharp  Benjamin Furly  Charles Marshall  Christopher Taylor  \\\n",
      "female      -4.919981       -4.919981         -4.919981           -4.919981   \n",
      "male        -4.584967       -4.584967         -4.584967           -4.584967   \n",
      "\n",
      "        ...  William Crouch  William Dewsbury  William Edmundson  \\\n",
      "female  ...       -4.919981         -4.919981          -4.919981   \n",
      "male    ...       -5.278115         -4.584967          -5.278115   \n",
      "\n",
      "        William Gibson  William Mead  William Mucklow  William Penn  \\\n",
      "female       -4.919981     -4.919981        -4.919981     -4.919981   \n",
      "male         -4.584967     -4.584967        -4.584967     -4.584967   \n",
      "\n",
      "        William Rogers  William Simpson  William Tomlinson  \n",
      "female       -4.919981        -4.919981          -4.919981  \n",
      "male         -5.278115        -4.584967          -4.584967  \n",
      "\n",
      "[2 rows x 119 columns]\n",
      "\n",
      "Cantidad de ejemplos para el atributo HistoricalSignificance:\n"
     ]
    },
    {
     "ename": "ValueError",
     "evalue": "Shape of passed values is (2, 64), indices imply (2, 65)",
     "output_type": "error",
     "traceback": [
      "\u001b[1;31m---------------------------------------------------------------------------\u001b[0m",
      "\u001b[1;31mValueError\u001b[0m                                Traceback (most recent call last)",
      "Input \u001b[1;32mIn [133]\u001b[0m, in \u001b[0;36m<cell line: 1>\u001b[1;34m()\u001b[0m\n\u001b[0;32m      1\u001b[0m \u001b[38;5;28;01mfor\u001b[39;00m i, atributo \u001b[38;5;129;01min\u001b[39;00m \u001b[38;5;28menumerate\u001b[39m(nodos\u001b[38;5;241m.\u001b[39mcolumns[:\u001b[38;5;241m-\u001b[39m\u001b[38;5;241m1\u001b[39m]):\n\u001b[0;32m      2\u001b[0m     \u001b[38;5;28mprint\u001b[39m(\u001b[38;5;124mf\u001b[39m\u001b[38;5;124m'\u001b[39m\u001b[38;5;124mCantidad de ejemplos para el atributo \u001b[39m\u001b[38;5;132;01m{\u001b[39;00matributo\u001b[38;5;132;01m}\u001b[39;00m\u001b[38;5;124m:\u001b[39m\u001b[38;5;124m'\u001b[39m)\n\u001b[1;32m----> 3\u001b[0m     \u001b[38;5;28mprint\u001b[39m(\u001b[43mpd\u001b[49m\u001b[38;5;241;43m.\u001b[39;49m\u001b[43mDataFrame\u001b[49m\u001b[43m(\u001b[49m\u001b[43mclasif_NB\u001b[49m\u001b[38;5;241;43m.\u001b[39;49m\u001b[43mcategory_count_\u001b[49m\u001b[43m[\u001b[49m\u001b[43mi\u001b[49m\u001b[43m]\u001b[49m\u001b[43m,\u001b[49m\n\u001b[0;32m      4\u001b[0m \u001b[43m                          \u001b[49m\u001b[43mcolumns\u001b[49m\u001b[38;5;241;43m=\u001b[39;49m\u001b[43mcodificador_atributos\u001b[49m\u001b[38;5;241;43m.\u001b[39;49m\u001b[43mcategories_\u001b[49m\u001b[43m[\u001b[49m\u001b[43mi\u001b[49m\u001b[43m]\u001b[49m\u001b[43m,\u001b[49m\n\u001b[0;32m      5\u001b[0m \u001b[43m                          \u001b[49m\u001b[43mindex\u001b[49m\u001b[38;5;241;43m=\u001b[39;49m\u001b[43mcodificador_objetivo\u001b[49m\u001b[38;5;241;43m.\u001b[39;49m\u001b[43mclasses_\u001b[49m\u001b[43m)\u001b[49m)\n\u001b[0;32m      6\u001b[0m     \u001b[38;5;28mprint\u001b[39m(\u001b[38;5;124mf\u001b[39m\u001b[38;5;124m'\u001b[39m\u001b[38;5;124mLogaritmos de las probabilidades aprendidas para el atributo \u001b[39m\u001b[38;5;132;01m{\u001b[39;00matributo\u001b[38;5;132;01m}\u001b[39;00m\u001b[38;5;124m:\u001b[39m\u001b[38;5;124m'\u001b[39m)\n\u001b[0;32m      7\u001b[0m     \u001b[38;5;28mprint\u001b[39m(pd\u001b[38;5;241m.\u001b[39mDataFrame(clasif_NB\u001b[38;5;241m.\u001b[39mfeature_log_prob_[i],\n\u001b[0;32m      8\u001b[0m                           columns\u001b[38;5;241m=\u001b[39mcodificador_atributos\u001b[38;5;241m.\u001b[39mcategories_[i],\n\u001b[0;32m      9\u001b[0m                           index\u001b[38;5;241m=\u001b[39mcodificador_objetivo\u001b[38;5;241m.\u001b[39mclasses_))\n",
      "File \u001b[1;32m~\\anaconda3\\lib\\site-packages\\pandas\\core\\frame.py:672\u001b[0m, in \u001b[0;36mDataFrame.__init__\u001b[1;34m(self, data, index, columns, dtype, copy)\u001b[0m\n\u001b[0;32m    662\u001b[0m         mgr \u001b[38;5;241m=\u001b[39m dict_to_mgr(\n\u001b[0;32m    663\u001b[0m             \u001b[38;5;66;03m# error: Item \"ndarray\" of \"Union[ndarray, Series, Index]\" has no\u001b[39;00m\n\u001b[0;32m    664\u001b[0m             \u001b[38;5;66;03m# attribute \"name\"\u001b[39;00m\n\u001b[1;32m   (...)\u001b[0m\n\u001b[0;32m    669\u001b[0m             typ\u001b[38;5;241m=\u001b[39mmanager,\n\u001b[0;32m    670\u001b[0m         )\n\u001b[0;32m    671\u001b[0m     \u001b[38;5;28;01melse\u001b[39;00m:\n\u001b[1;32m--> 672\u001b[0m         mgr \u001b[38;5;241m=\u001b[39m \u001b[43mndarray_to_mgr\u001b[49m\u001b[43m(\u001b[49m\n\u001b[0;32m    673\u001b[0m \u001b[43m            \u001b[49m\u001b[43mdata\u001b[49m\u001b[43m,\u001b[49m\n\u001b[0;32m    674\u001b[0m \u001b[43m            \u001b[49m\u001b[43mindex\u001b[49m\u001b[43m,\u001b[49m\n\u001b[0;32m    675\u001b[0m \u001b[43m            \u001b[49m\u001b[43mcolumns\u001b[49m\u001b[43m,\u001b[49m\n\u001b[0;32m    676\u001b[0m \u001b[43m            \u001b[49m\u001b[43mdtype\u001b[49m\u001b[38;5;241;43m=\u001b[39;49m\u001b[43mdtype\u001b[49m\u001b[43m,\u001b[49m\n\u001b[0;32m    677\u001b[0m \u001b[43m            \u001b[49m\u001b[43mcopy\u001b[49m\u001b[38;5;241;43m=\u001b[39;49m\u001b[43mcopy\u001b[49m\u001b[43m,\u001b[49m\n\u001b[0;32m    678\u001b[0m \u001b[43m            \u001b[49m\u001b[43mtyp\u001b[49m\u001b[38;5;241;43m=\u001b[39;49m\u001b[43mmanager\u001b[49m\u001b[43m,\u001b[49m\n\u001b[0;32m    679\u001b[0m \u001b[43m        \u001b[49m\u001b[43m)\u001b[49m\n\u001b[0;32m    681\u001b[0m \u001b[38;5;66;03m# For data is list-like, or Iterable (will consume into list)\u001b[39;00m\n\u001b[0;32m    682\u001b[0m \u001b[38;5;28;01melif\u001b[39;00m is_list_like(data):\n",
      "File \u001b[1;32m~\\anaconda3\\lib\\site-packages\\pandas\\core\\internals\\construction.py:324\u001b[0m, in \u001b[0;36mndarray_to_mgr\u001b[1;34m(values, index, columns, dtype, copy, typ)\u001b[0m\n\u001b[0;32m    319\u001b[0m \u001b[38;5;66;03m# _prep_ndarray ensures that values.ndim == 2 at this point\u001b[39;00m\n\u001b[0;32m    320\u001b[0m index, columns \u001b[38;5;241m=\u001b[39m _get_axes(\n\u001b[0;32m    321\u001b[0m     values\u001b[38;5;241m.\u001b[39mshape[\u001b[38;5;241m0\u001b[39m], values\u001b[38;5;241m.\u001b[39mshape[\u001b[38;5;241m1\u001b[39m], index\u001b[38;5;241m=\u001b[39mindex, columns\u001b[38;5;241m=\u001b[39mcolumns\n\u001b[0;32m    322\u001b[0m )\n\u001b[1;32m--> 324\u001b[0m \u001b[43m_check_values_indices_shape_match\u001b[49m\u001b[43m(\u001b[49m\u001b[43mvalues\u001b[49m\u001b[43m,\u001b[49m\u001b[43m \u001b[49m\u001b[43mindex\u001b[49m\u001b[43m,\u001b[49m\u001b[43m \u001b[49m\u001b[43mcolumns\u001b[49m\u001b[43m)\u001b[49m\n\u001b[0;32m    326\u001b[0m \u001b[38;5;28;01mif\u001b[39;00m typ \u001b[38;5;241m==\u001b[39m \u001b[38;5;124m\"\u001b[39m\u001b[38;5;124marray\u001b[39m\u001b[38;5;124m\"\u001b[39m:\n\u001b[0;32m    328\u001b[0m     \u001b[38;5;28;01mif\u001b[39;00m \u001b[38;5;28missubclass\u001b[39m(values\u001b[38;5;241m.\u001b[39mdtype\u001b[38;5;241m.\u001b[39mtype, \u001b[38;5;28mstr\u001b[39m):\n",
      "File \u001b[1;32m~\\anaconda3\\lib\\site-packages\\pandas\\core\\internals\\construction.py:393\u001b[0m, in \u001b[0;36m_check_values_indices_shape_match\u001b[1;34m(values, index, columns)\u001b[0m\n\u001b[0;32m    391\u001b[0m passed \u001b[38;5;241m=\u001b[39m values\u001b[38;5;241m.\u001b[39mshape\n\u001b[0;32m    392\u001b[0m implied \u001b[38;5;241m=\u001b[39m (\u001b[38;5;28mlen\u001b[39m(index), \u001b[38;5;28mlen\u001b[39m(columns))\n\u001b[1;32m--> 393\u001b[0m \u001b[38;5;28;01mraise\u001b[39;00m \u001b[38;5;167;01mValueError\u001b[39;00m(\u001b[38;5;124mf\u001b[39m\u001b[38;5;124m\"\u001b[39m\u001b[38;5;124mShape of passed values is \u001b[39m\u001b[38;5;132;01m{\u001b[39;00mpassed\u001b[38;5;132;01m}\u001b[39;00m\u001b[38;5;124m, indices imply \u001b[39m\u001b[38;5;132;01m{\u001b[39;00mimplied\u001b[38;5;132;01m}\u001b[39;00m\u001b[38;5;124m\"\u001b[39m)\n",
      "\u001b[1;31mValueError\u001b[0m: Shape of passed values is (2, 64), indices imply (2, 65)"
     ]
    }
   ],
   "source": [
    "for i, atributo in enumerate(nodos.columns[:-1]):\n",
    "    print(f'Cantidad de ejemplos para el atributo {atributo}:')\n",
    "    print(pd.DataFrame(clasif_NB.category_count_[i],\n",
    "                          columns=codificador_atributos.categories_[i],\n",
    "                          index=codificador_objetivo.classes_))\n",
    "    print(f'Logaritmos de las probabilidades aprendidas para el atributo {atributo}:')\n",
    "    print(pd.DataFrame(clasif_NB.feature_log_prob_[i],\n",
    "                          columns=codificador_atributos.categories_[i],\n",
    "                          index=codificador_objetivo.classes_))\n",
    "    print()"
   ]
  },
  {
   "cell_type": "code",
   "execution_count": 106,
   "id": "2fb321ea",
   "metadata": {},
   "outputs": [
    {
     "data": {
      "text/html": [
       "<div>\n",
       "<style scoped>\n",
       "    .dataframe tbody tr th:only-of-type {\n",
       "        vertical-align: middle;\n",
       "    }\n",
       "\n",
       "    .dataframe tbody tr th {\n",
       "        vertical-align: top;\n",
       "    }\n",
       "\n",
       "    .dataframe thead th {\n",
       "        text-align: right;\n",
       "    }\n",
       "</style>\n",
       "<table border=\"1\" class=\"dataframe\">\n",
       "  <thead>\n",
       "    <tr style=\"text-align: right;\">\n",
       "      <th></th>\n",
       "      <th>Name</th>\n",
       "      <th>HistoricalSignificance</th>\n",
       "      <th>Birthdate</th>\n",
       "      <th>Deathdate</th>\n",
       "      <th>ID</th>\n",
       "    </tr>\n",
       "  </thead>\n",
       "  <tbody>\n",
       "    <tr>\n",
       "      <th>0</th>\n",
       "      <td>Joseph Wyeth</td>\n",
       "      <td>religious writer</td>\n",
       "      <td>1621</td>\n",
       "      <td>1751</td>\n",
       "      <td>10013191</td>\n",
       "    </tr>\n",
       "    <tr>\n",
       "      <th>1</th>\n",
       "      <td>Lilias Skene</td>\n",
       "      <td>Quaker preacher and poet</td>\n",
       "      <td>1676</td>\n",
       "      <td>1697</td>\n",
       "      <td>10011152</td>\n",
       "    </tr>\n",
       "  </tbody>\n",
       "</table>\n",
       "</div>"
      ],
      "text/plain": [
       "           Name    HistoricalSignificance  Birthdate  Deathdate        ID\n",
       "0  Joseph Wyeth          religious writer       1621       1751  10013191\n",
       "1  Lilias Skene  Quaker preacher and poet       1676       1697  10011152"
      ]
     },
     "execution_count": 106,
     "metadata": {},
     "output_type": "execute_result"
    }
   ],
   "source": [
    "nuevos_ejemplos = pd.DataFrame([['Joseph Wyeth', 'religious writer', 1621, 1751, 10013191],\n",
    "                                    ['Lilias Skene', 'Quaker preacher and poet', 1676, 1697, 10011152]],\n",
    "                                   columns=nodos.columns[:-1])\n",
    "nuevos_ejemplos"
   ]
  },
  {
   "cell_type": "code",
   "execution_count": 107,
   "id": "2caa144a",
   "metadata": {},
   "outputs": [
    {
     "data": {
      "text/plain": [
       "array(['male', 'female'], dtype=object)"
      ]
     },
     "execution_count": 107,
     "metadata": {},
     "output_type": "execute_result"
    }
   ],
   "source": [
    "predicciones = clasif_NB.predict(codificador_atributos.transform(nuevos_ejemplos))\n",
    "codificador_objetivo.inverse_transform(predicciones)"
   ]
  },
  {
   "cell_type": "markdown",
   "id": "093bbabf",
   "metadata": {},
   "source": [
    "### Árboles de decisión"
   ]
  },
  {
   "cell_type": "markdown",
   "id": "5204cd13",
   "metadata": {},
   "source": [
    "_sklearn_ implementa los árboles de decisión clasificadores como instancias de la clase `DecisionTreeClassifier`."
   ]
  },
  {
   "cell_type": "code",
   "execution_count": 40,
   "id": "9dc00563",
   "metadata": {},
   "outputs": [],
   "source": [
    "from sklearn import tree"
   ]
  },
  {
   "cell_type": "code",
   "execution_count": 87,
   "id": "42bf7c16",
   "metadata": {},
   "outputs": [
    {
     "data": {
      "text/plain": [
       "DecisionTreeClassifier(max_depth=4, random_state=54321)"
      ]
     },
     "execution_count": 87,
     "metadata": {},
     "output_type": "execute_result"
    }
   ],
   "source": [
    "# Scikit-learn implementa el algoritmo CART de tal manera que, al buscar en cada nodo la mejor\n",
    "# combinación atributo-umbral para dividir el conjunto de ejemplos asociado al nodo, no considera\n",
    "# los atributos en orden, sino que los reordena aleatoriamente. Esto puede hacer que se obtenga\n",
    "# un árbol distinto cada vez que se ejecuta el código, ya que produce como efecto que los empates\n",
    "# en esa búsqueda se deshacen de forma aleatoria.\n",
    "\n",
    "# Para evitar el sobreajuste del árbol a los ejemplos de entrenamiento vamos a limitar la\n",
    "# profundidad del árbol\n",
    "\n",
    "clasif_CART = tree.DecisionTreeClassifier(\n",
    "    max_depth=4,  # máxima profundidad del árbol\n",
    "    random_state=54321  # semilla aleatoria, para que el código sea reproducible\n",
    ")\n",
    "clasif_CART.fit(atributos_entrenamiento, objetivo_entrenamiento)"
   ]
  },
  {
   "cell_type": "code",
   "execution_count": 88,
   "id": "fd6b88f5",
   "metadata": {},
   "outputs": [],
   "source": [
    "from matplotlib import pyplot"
   ]
  },
  {
   "cell_type": "code",
   "execution_count": 89,
   "id": "139afdd0",
   "metadata": {},
   "outputs": [
    {
     "data": {
      "image/png": "[encoded data removed]",
      "text/plain": [
       "<Figure size 3600x1440 with 1 Axes>"
      ]
     },
     "metadata": {
      "needs_background": "light"
     },
     "output_type": "display_data"
    }
   ],
   "source": [
    "pyplot.figure(figsize=(50, 20))  # Anchura y altura del gráfico\n",
    "árbol = tree.plot_tree(clasif_CART,\n",
    "                       feature_names=nodos.columns[:-1],\n",
    "                       class_names=codificador_objetivo.classes_)"
   ]
  },
  {
   "cell_type": "markdown",
   "id": "c1d17dd4",
   "metadata": {},
   "source": [
    "El método `predict` devuelve la clase predicha por el modelo para un nuevo ejemplo y el método `score` la tasa de acierto (_accuracy_) sobre un conjunto de datos de prueba."
   ]
  },
  {
   "cell_type": "code",
   "execution_count": 108,
   "id": "dae48bfe",
   "metadata": {},
   "outputs": [
    {
     "data": {
      "text/plain": [
       "array(['male', 'female'], dtype=object)"
      ]
     },
     "execution_count": 108,
     "metadata": {},
     "output_type": "execute_result"
    }
   ],
   "source": [
    "predicciones = clasif_CART.predict(codificador_atributos.transform(nuevos_ejemplos))\n",
    "codificador_objetivo.inverse_transform(predicciones)"
   ]
  },
  {
   "cell_type": "code",
   "execution_count": 73,
   "id": "80712658",
   "metadata": {},
   "outputs": [
    {
     "data": {
      "text/plain": [
       "0.8333333333333334"
      ]
     },
     "execution_count": 73,
     "metadata": {},
     "output_type": "execute_result"
    }
   ],
   "source": [
    "clasif_CART.score(atributos_prueba, objetivo_prueba)"
   ]
  },
  {
   "cell_type": "markdown",
   "id": "3d3ddcd8",
   "metadata": {},
   "source": [
    "### kNN"
   ]
  },
  {
   "cell_type": "markdown",
   "id": "b5c964b8",
   "metadata": {},
   "source": [
    "_sklearn_ implementa un modelo _kNN_ clasificador como una instancia de la clase `KNeighborsClassifier`. En https://scikit-learn.org/stable/modules/generated/sklearn.metrics.DistanceMetric.html se puede encontrar una descripción de las distancias actualmente implementadas que se podrían usar."
   ]
  },
  {
   "cell_type": "code",
   "execution_count": 75,
   "id": "b666d12a",
   "metadata": {},
   "outputs": [],
   "source": [
    "from sklearn import neighbors"
   ]
  },
  {
   "cell_type": "code",
   "execution_count": 109,
   "id": "ff7928d6",
   "metadata": {},
   "outputs": [
    {
     "data": {
      "text/plain": [
       "KNeighborsClassifier(metric='hamming')"
      ]
     },
     "execution_count": 109,
     "metadata": {},
     "output_type": "execute_result"
    }
   ],
   "source": [
    "clasif_kNN = neighbors.KNeighborsClassifier(\n",
    "    n_neighbors=5,  # Número de vecinos a considerar\n",
    "    metric='hamming'  # Distancia de Hamming como métrica de cercanía:\n",
    "                      # fracción de atributos con valores distintos\n",
    ")\n",
    "clasif_kNN.fit(atributos_entrenamiento, objetivo_entrenamiento)"
   ]
  },
  {
   "cell_type": "markdown",
   "id": "ed05b332",
   "metadata": {},
   "source": [
    "El método `kneighbors` permite encontrar los (índices de los) $k$ vecinos más cercanos de los ejemplos proporcionados, así como las distancias a las que se encuentran."
   ]
  },
  {
   "cell_type": "code",
   "execution_count": 110,
   "id": "567bc8f0",
   "metadata": {},
   "outputs": [],
   "source": [
    "distancias, vecinos = clasif_kNN.kneighbors(codificador_atributos.transform(nuevos_ejemplos))"
   ]
  },
  {
   "cell_type": "code",
   "execution_count": 112,
   "id": "c44a7185",
   "metadata": {},
   "outputs": [
    {
     "name": "stdout",
     "output_type": "stream",
     "text": [
      "Primer ejemplo nuevo:\n",
      "           Name HistoricalSignificance  Birthdate  Deathdate        ID\n",
      "0  Joseph Wyeth       religious writer       1621       1751  10013191\n",
      "\n",
      "5 vecinos más cercanos:\n",
      "                          Name         HistoricalSignificance Birthdate  \\\n",
      "17                Joseph Wyeth               religious writer      1663   \n",
      "16           Humphrey Woolrich               religious writer      1633   \n",
      "67                 James Logan  colonial official and scholar      1674   \n",
      "53      George Fox the younger               religious writer      1551   \n",
      "60  Alexander Skene of Newtyle    local politician and author      1621   \n",
      "\n",
      "   Deathdate        ID  distancia clase  \n",
      "17      1731  10013191        0.4  male  \n",
      "16      1707  10013112        0.8  male  \n",
      "67      1751  10007567        0.8  male  \n",
      "53      1661  10004523        0.8  male  \n",
      "60      1694  10011149        0.8  male  \n"
     ]
    }
   ],
   "source": [
    "# Vecinos más cercanos y distancia a ellos del primer ejemplo nuevo\n",
    "print(\"Primer ejemplo nuevo:\")\n",
    "print(nuevos_ejemplos.iloc[[0]])\n",
    "print()\n",
    "print(\"5 vecinos más cercanos:\")\n",
    "print(pd.DataFrame(codificador_atributos.inverse_transform(atributos_entrenamiento[vecinos[0]]),\n",
    "                       columns=nodos.columns[:-1],\n",
    "                       index=vecinos[0]).assign(\n",
    "    distancia=distancias[0],\n",
    "    clase=codificador_objetivo.inverse_transform(objetivo_entrenamiento[vecinos[0]])\n",
    "))"
   ]
  },
  {
   "cell_type": "code",
   "execution_count": 114,
   "id": "ec8f4e36",
   "metadata": {},
   "outputs": [
    {
     "name": "stdout",
     "output_type": "stream",
     "text": [
      "Segundo ejemplo nuevo:\n",
      "           Name    HistoricalSignificance  Birthdate  Deathdate        ID\n",
      "1  Lilias Skene  Quaker preacher and poet       1676       1697  10011152\n",
      "\n",
      "5 vecinos más cercanos:\n",
      "                Name            HistoricalSignificance Birthdate Deathdate  \\\n",
      "87      John ap John                     Quaker leader      1625      1697   \n",
      "38     Grace Chamber                   Quaker minister      1676      1762   \n",
      "9   Alexander Parker        Quaker preacher and author      1628      1689   \n",
      "18       David Lloyd  lawyer and politician in America      1656      1731   \n",
      "55    Benjamin Furly     merchant and religious writer      1636      1714   \n",
      "\n",
      "          ID  distancia   clase  \n",
      "87  10000243        0.8    male  \n",
      "38  10002274        0.8  female  \n",
      "9   10009307        1.0    male  \n",
      "18  10007509        1.0    male  \n",
      "55  10004625        1.0    male  \n"
     ]
    }
   ],
   "source": [
    "# Vecinos más cercanos y distancia a ellos del segundo ejemplo nuevo\n",
    "print(\"Segundo ejemplo nuevo:\")\n",
    "print(nuevos_ejemplos.iloc[[1]])\n",
    "print()\n",
    "print(\"5 vecinos más cercanos:\")\n",
    "print(pd.DataFrame(codificador_atributos.inverse_transform(atributos_entrenamiento[vecinos[1]]),\n",
    "                       columns=nodos.columns[:-1],\n",
    "                       index=vecinos[1]).assign(\n",
    "    distancia=distancias[1],\n",
    "    clase=codificador_objetivo.inverse_transform(objetivo_entrenamiento[vecinos[1]])\n",
    "))"
   ]
  },
  {
   "cell_type": "markdown",
   "id": "312dffd6",
   "metadata": {},
   "source": [
    "El método `predict` devuelve la clase predicha por el modelo para un nuevo ejemplo y el método `score` la tasa de aciertos (_accuracy_) sobre un conjunto de datos de prueba."
   ]
  },
  {
   "cell_type": "code",
   "execution_count": 115,
   "id": "f07c68b2",
   "metadata": {},
   "outputs": [
    {
     "data": {
      "text/plain": [
       "array(['male', 'male'], dtype=object)"
      ]
     },
     "execution_count": 115,
     "metadata": {},
     "output_type": "execute_result"
    }
   ],
   "source": [
    "predicciones = clasif_kNN.predict(codificador_atributos.transform(nuevos_ejemplos))\n",
    "codificador_objetivo.inverse_transform(predicciones)"
   ]
  },
  {
   "cell_type": "code",
   "execution_count": 116,
   "id": "03f72d69",
   "metadata": {},
   "outputs": [
    {
     "data": {
      "text/plain": [
       "0.8333333333333334"
      ]
     },
     "execution_count": 116,
     "metadata": {},
     "output_type": "execute_result"
    }
   ],
   "source": [
    "clasif_kNN.score(atributos_prueba, objetivo_prueba)"
   ]
  },
  {
   "cell_type": "markdown",
   "id": "7853e6aa",
   "metadata": {},
   "source": [
    "### Centralidad de personas más relacionadas"
   ]
  },
  {
   "cell_type": "code",
   "execution_count": 40,
   "id": "e59df714",
   "metadata": {},
   "outputs": [
    {
     "data": {
      "text/html": [
       "<div>\n",
       "<style scoped>\n",
       "    .dataframe tbody tr th:only-of-type {\n",
       "        vertical-align: middle;\n",
       "    }\n",
       "\n",
       "    .dataframe tbody tr th {\n",
       "        vertical-align: top;\n",
       "    }\n",
       "\n",
       "    .dataframe thead th {\n",
       "        text-align: right;\n",
       "    }\n",
       "</style>\n",
       "<table border=\"1\" class=\"dataframe\">\n",
       "  <thead>\n",
       "    <tr style=\"text-align: right;\">\n",
       "      <th></th>\n",
       "      <th>grado_centralidad</th>\n",
       "    </tr>\n",
       "  </thead>\n",
       "  <tbody>\n",
       "    <tr>\n",
       "      <th>George Fox</th>\n",
       "      <td>0.186441</td>\n",
       "    </tr>\n",
       "    <tr>\n",
       "      <th>William Penn</th>\n",
       "      <td>0.152542</td>\n",
       "    </tr>\n",
       "    <tr>\n",
       "      <th>James Nayler</th>\n",
       "      <td>0.135593</td>\n",
       "    </tr>\n",
       "    <tr>\n",
       "      <th>George Whitehead</th>\n",
       "      <td>0.110169</td>\n",
       "    </tr>\n",
       "    <tr>\n",
       "      <th>Margaret Fell</th>\n",
       "      <td>0.110169</td>\n",
       "    </tr>\n",
       "    <tr>\n",
       "      <th>Benjamin Furly</th>\n",
       "      <td>0.084746</td>\n",
       "    </tr>\n",
       "    <tr>\n",
       "      <th>Edward Burrough</th>\n",
       "      <td>0.076271</td>\n",
       "    </tr>\n",
       "    <tr>\n",
       "      <th>Thomas Ellwood</th>\n",
       "      <td>0.067797</td>\n",
       "    </tr>\n",
       "    <tr>\n",
       "      <th>George Keith</th>\n",
       "      <td>0.067797</td>\n",
       "    </tr>\n",
       "    <tr>\n",
       "      <th>Francis Howgill</th>\n",
       "      <td>0.059322</td>\n",
       "    </tr>\n",
       "  </tbody>\n",
       "</table>\n",
       "</div>"
      ],
      "text/plain": [
       "                  grado_centralidad\n",
       "George Fox                 0.186441\n",
       "William Penn               0.152542\n",
       "James Nayler               0.135593\n",
       "George Whitehead           0.110169\n",
       "Margaret Fell              0.110169\n",
       "Benjamin Furly             0.084746\n",
       "Edward Burrough            0.076271\n",
       "Thomas Ellwood             0.067797\n",
       "George Keith               0.067797\n",
       "Francis Howgill            0.059322"
      ]
     },
     "execution_count": 40,
     "metadata": {},
     "output_type": "execute_result"
    }
   ],
   "source": [
    "pd.DataFrame.from_dict(nx.algorithms.centrality.degree_centrality(graph), \n",
    "                       orient='index',\n",
    "                       columns = ['grado_centralidad'])\\\n",
    "            .sort_values(['grado_centralidad'], \n",
    "                         ascending = False)\\\n",
    "            .head(10)"
   ]
  },
  {
   "cell_type": "markdown",
   "id": "18c6adcf",
   "metadata": {},
   "source": [
    "### Centralidad de personas más cercanas"
   ]
  },
  {
   "cell_type": "code",
   "execution_count": 41,
   "id": "fdfbb983",
   "metadata": {},
   "outputs": [
    {
     "data": {
      "text/html": [
       "<div>\n",
       "<style scoped>\n",
       "    .dataframe tbody tr th:only-of-type {\n",
       "        vertical-align: middle;\n",
       "    }\n",
       "\n",
       "    .dataframe tbody tr th {\n",
       "        vertical-align: top;\n",
       "    }\n",
       "\n",
       "    .dataframe thead th {\n",
       "        text-align: right;\n",
       "    }\n",
       "</style>\n",
       "<table border=\"1\" class=\"dataframe\">\n",
       "  <thead>\n",
       "    <tr style=\"text-align: right;\">\n",
       "      <th></th>\n",
       "      <th>centralidad_proximidad</th>\n",
       "    </tr>\n",
       "  </thead>\n",
       "  <tbody>\n",
       "    <tr>\n",
       "      <th>George Fox</th>\n",
       "      <td>0.392221</td>\n",
       "    </tr>\n",
       "    <tr>\n",
       "      <th>William Penn</th>\n",
       "      <td>0.373088</td>\n",
       "    </tr>\n",
       "    <tr>\n",
       "      <th>George Whitehead</th>\n",
       "      <td>0.354088</td>\n",
       "    </tr>\n",
       "    <tr>\n",
       "      <th>Margaret Fell</th>\n",
       "      <td>0.338421</td>\n",
       "    </tr>\n",
       "    <tr>\n",
       "      <th>James Nayler</th>\n",
       "      <td>0.331095</td>\n",
       "    </tr>\n",
       "    <tr>\n",
       "      <th>George Keith</th>\n",
       "      <td>0.325460</td>\n",
       "    </tr>\n",
       "    <tr>\n",
       "      <th>Benjamin Furly</th>\n",
       "      <td>0.321357</td>\n",
       "    </tr>\n",
       "    <tr>\n",
       "      <th>Thomas Ellwood</th>\n",
       "      <td>0.302305</td>\n",
       "    </tr>\n",
       "    <tr>\n",
       "      <th>Edward Burrough</th>\n",
       "      <td>0.297599</td>\n",
       "    </tr>\n",
       "    <tr>\n",
       "      <th>Rebecca Travers</th>\n",
       "      <td>0.297599</td>\n",
       "    </tr>\n",
       "  </tbody>\n",
       "</table>\n",
       "</div>"
      ],
      "text/plain": [
       "                  centralidad_proximidad\n",
       "George Fox                      0.392221\n",
       "William Penn                    0.373088\n",
       "George Whitehead                0.354088\n",
       "Margaret Fell                   0.338421\n",
       "James Nayler                    0.331095\n",
       "George Keith                    0.325460\n",
       "Benjamin Furly                  0.321357\n",
       "Thomas Ellwood                  0.302305\n",
       "Edward Burrough                 0.297599\n",
       "Rebecca Travers                 0.297599"
      ]
     },
     "execution_count": 41,
     "metadata": {},
     "output_type": "execute_result"
    }
   ],
   "source": [
    "pd.DataFrame.from_dict(nx.closeness_centrality(graph), \n",
    "                       orient='index', \n",
    "                       columns = ['centralidad_proximidad']) \\\n",
    "            .sort_values(['centralidad_proximidad'], ascending = False) \\\n",
    "            .head(10)"
   ]
  },
  {
   "cell_type": "markdown",
   "id": "072b2724",
   "metadata": {},
   "source": [
    "### Centralidad de puentes"
   ]
  },
  {
   "cell_type": "code",
   "execution_count": 134,
   "id": "d4fb0a9f",
   "metadata": {},
   "outputs": [
    {
     "data": {
      "text/html": [
       "<div>\n",
       "<style scoped>\n",
       "    .dataframe tbody tr th:only-of-type {\n",
       "        vertical-align: middle;\n",
       "    }\n",
       "\n",
       "    .dataframe tbody tr th {\n",
       "        vertical-align: top;\n",
       "    }\n",
       "\n",
       "    .dataframe thead th {\n",
       "        text-align: right;\n",
       "    }\n",
       "</style>\n",
       "<table border=\"1\" class=\"dataframe\">\n",
       "  <thead>\n",
       "    <tr style=\"text-align: right;\">\n",
       "      <th></th>\n",
       "      <th>centralidad_intermedio</th>\n",
       "    </tr>\n",
       "  </thead>\n",
       "  <tbody>\n",
       "    <tr>\n",
       "      <th>William Penn</th>\n",
       "      <td>0.239995</td>\n",
       "    </tr>\n",
       "    <tr>\n",
       "      <th>George Fox</th>\n",
       "      <td>0.236833</td>\n",
       "    </tr>\n",
       "    <tr>\n",
       "      <th>George Whitehead</th>\n",
       "      <td>0.126320</td>\n",
       "    </tr>\n",
       "    <tr>\n",
       "      <th>Margaret Fell</th>\n",
       "      <td>0.121068</td>\n",
       "    </tr>\n",
       "    <tr>\n",
       "      <th>James Nayler</th>\n",
       "      <td>0.104460</td>\n",
       "    </tr>\n",
       "    <tr>\n",
       "      <th>Benjamin Furly</th>\n",
       "      <td>0.064196</td>\n",
       "    </tr>\n",
       "    <tr>\n",
       "      <th>Thomas Ellwood</th>\n",
       "      <td>0.046191</td>\n",
       "    </tr>\n",
       "    <tr>\n",
       "      <th>George Keith</th>\n",
       "      <td>0.045007</td>\n",
       "    </tr>\n",
       "    <tr>\n",
       "      <th>John Audland</th>\n",
       "      <td>0.041649</td>\n",
       "    </tr>\n",
       "    <tr>\n",
       "      <th>Alexander Parker</th>\n",
       "      <td>0.038937</td>\n",
       "    </tr>\n",
       "  </tbody>\n",
       "</table>\n",
       "</div>"
      ],
      "text/plain": [
       "                  centralidad_intermedio\n",
       "William Penn                    0.239995\n",
       "George Fox                      0.236833\n",
       "George Whitehead                0.126320\n",
       "Margaret Fell                   0.121068\n",
       "James Nayler                    0.104460\n",
       "Benjamin Furly                  0.064196\n",
       "Thomas Ellwood                  0.046191\n",
       "George Keith                    0.045007\n",
       "John Audland                    0.041649\n",
       "Alexander Parker                0.038937"
      ]
     },
     "execution_count": 134,
     "metadata": {},
     "output_type": "execute_result"
    }
   ],
   "source": [
    "pd.DataFrame.from_dict(nx.algorithms.centrality.betweenness_centrality(graph), \n",
    "                       orient='index', \n",
    "                       columns = ['centralidad_intermedio'])\\\n",
    "            .sort_values(['centralidad_intermedio'], \n",
    "                         ascending = False)\\\n",
    "            .head(10)"
   ]
  },
  {
   "cell_type": "code",
   "execution_count": null,
   "id": "4d5aaa0f",
   "metadata": {},
   "outputs": [],
   "source": []
  }
 ],
 "metadata": {
  "kernelspec": {
   "display_name": "Python 3 (ipykernel)",
   "language": "python",
   "name": "python3"
  },
  "language_info": {
   "codemirror_mode": {
    "name": "ipython",
    "version": 3
   },
   "file_extension": ".py",
   "mimetype": "text/x-python",
   "name": "python",
   "nbconvert_exporter": "python",
   "pygments_lexer": "ipython3",
   "version": "3.9.7"
  }
 },
 "nbformat": 4,
 "nbformat_minor": 5
}

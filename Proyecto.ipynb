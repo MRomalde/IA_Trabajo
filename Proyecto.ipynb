{
 "cells": [
  {
   "cell_type": "code",
   "execution_count": 218,
   "id": "ec4bdb5c",
   "metadata": {},
   "outputs": [],
   "source": [
    "import pandas as pd\n",
    "import networkx as nx\n",
    "import matplotlib.pyplot as plt"
   ]
  },
  {
   "cell_type": "code",
   "execution_count": 272,
   "id": "9bb73987",
   "metadata": {},
   "outputs": [
    {
     "data": {
      "text/html": [
       "<div>\n",
       "<style scoped>\n",
       "    .dataframe tbody tr th:only-of-type {\n",
       "        vertical-align: middle;\n",
       "    }\n",
       "\n",
       "    .dataframe tbody tr th {\n",
       "        vertical-align: top;\n",
       "    }\n",
       "\n",
       "    .dataframe thead th {\n",
       "        text-align: right;\n",
       "    }\n",
       "</style>\n",
       "<table border=\"1\" class=\"dataframe\">\n",
       "  <thead>\n",
       "    <tr style=\"text-align: right;\">\n",
       "      <th></th>\n",
       "      <th>Name</th>\n",
       "      <th>HistoricalSignificance</th>\n",
       "      <th>Birthdate</th>\n",
       "      <th>Deathdate</th>\n",
       "      <th>ID</th>\n",
       "      <th>Gender</th>\n",
       "    </tr>\n",
       "  </thead>\n",
       "  <tbody>\n",
       "    <tr>\n",
       "      <th>0</th>\n",
       "      <td>Joseph Wyeth</td>\n",
       "      <td>religious writer</td>\n",
       "      <td>1663</td>\n",
       "      <td>1731</td>\n",
       "      <td>10013191</td>\n",
       "      <td>male</td>\n",
       "    </tr>\n",
       "    <tr>\n",
       "      <th>1</th>\n",
       "      <td>Alexander Skene of Newtyle</td>\n",
       "      <td>local politician and author</td>\n",
       "      <td>1621</td>\n",
       "      <td>1694</td>\n",
       "      <td>10011149</td>\n",
       "      <td>male</td>\n",
       "    </tr>\n",
       "    <tr>\n",
       "      <th>2</th>\n",
       "      <td>James Logan</td>\n",
       "      <td>colonial official and scholar</td>\n",
       "      <td>1674</td>\n",
       "      <td>1751</td>\n",
       "      <td>10007567</td>\n",
       "      <td>male</td>\n",
       "    </tr>\n",
       "    <tr>\n",
       "      <th>3</th>\n",
       "      <td>Dorcas Erbery</td>\n",
       "      <td>Quaker preacher</td>\n",
       "      <td>1656</td>\n",
       "      <td>1659</td>\n",
       "      <td>10003983</td>\n",
       "      <td>female</td>\n",
       "    </tr>\n",
       "    <tr>\n",
       "      <th>4</th>\n",
       "      <td>Lilias Skene</td>\n",
       "      <td>Quaker preacher and poet</td>\n",
       "      <td>1626</td>\n",
       "      <td>1697</td>\n",
       "      <td>10011152</td>\n",
       "      <td>male</td>\n",
       "    </tr>\n",
       "    <tr>\n",
       "      <th>5</th>\n",
       "      <td>William Mucklow</td>\n",
       "      <td>religious writer</td>\n",
       "      <td>1630</td>\n",
       "      <td>1713</td>\n",
       "      <td>10008595</td>\n",
       "      <td>male</td>\n",
       "    </tr>\n",
       "    <tr>\n",
       "      <th>6</th>\n",
       "      <td>Thomas Salthouse</td>\n",
       "      <td>Quaker preacher and writer</td>\n",
       "      <td>1630</td>\n",
       "      <td>1691</td>\n",
       "      <td>10010643</td>\n",
       "      <td>male</td>\n",
       "    </tr>\n",
       "    <tr>\n",
       "      <th>7</th>\n",
       "      <td>William Dewsbury</td>\n",
       "      <td>Quaker activist</td>\n",
       "      <td>1621</td>\n",
       "      <td>1688</td>\n",
       "      <td>10003478</td>\n",
       "      <td>male</td>\n",
       "    </tr>\n",
       "    <tr>\n",
       "      <th>8</th>\n",
       "      <td>John Audland</td>\n",
       "      <td>Quaker preacher</td>\n",
       "      <td>1630</td>\n",
       "      <td>1664</td>\n",
       "      <td>10000411</td>\n",
       "      <td>male</td>\n",
       "    </tr>\n",
       "    <tr>\n",
       "      <th>9</th>\n",
       "      <td>Richard Claridge</td>\n",
       "      <td>Quaker minister and schoolmaster</td>\n",
       "      <td>1649</td>\n",
       "      <td>1723</td>\n",
       "      <td>10002469</td>\n",
       "      <td>male</td>\n",
       "    </tr>\n",
       "  </tbody>\n",
       "</table>\n",
       "</div>"
      ],
      "text/plain": [
       "                         Name            HistoricalSignificance  Birthdate  \\\n",
       "0                Joseph Wyeth                  religious writer       1663   \n",
       "1  Alexander Skene of Newtyle       local politician and author       1621   \n",
       "2                 James Logan     colonial official and scholar       1674   \n",
       "3               Dorcas Erbery                   Quaker preacher       1656   \n",
       "4                Lilias Skene          Quaker preacher and poet       1626   \n",
       "5             William Mucklow                  religious writer       1630   \n",
       "6            Thomas Salthouse        Quaker preacher and writer       1630   \n",
       "7            William Dewsbury                   Quaker activist       1621   \n",
       "8                John Audland                   Quaker preacher       1630   \n",
       "9            Richard Claridge  Quaker minister and schoolmaster       1649   \n",
       "\n",
       "   Deathdate        ID  Gender  \n",
       "0       1731  10013191    male  \n",
       "1       1694  10011149    male  \n",
       "2       1751  10007567    male  \n",
       "3       1659  10003983  female  \n",
       "4       1697  10011152    male  \n",
       "5       1713  10008595    male  \n",
       "6       1691  10010643    male  \n",
       "7       1688  10003478    male  \n",
       "8       1664  10000411    male  \n",
       "9       1723  10002469    male  "
      ]
     },
     "execution_count": 272,
     "metadata": {},
     "output_type": "execute_result"
    }
   ],
   "source": [
    "#cargamos nodos\n",
    "nodos=pd.read_csv('quakers_nodelist.csv',header=None,\n",
    "                 names=['Name','HistoricalSignificance','Birthdate','Deathdate','ID','Gender'])\n",
    "#cargamos aristas\n",
    "aristas=pd.read_csv('quakers_edgelist.csv',header=None,\n",
    "                   names=['Source','Target'])\n",
    "nodos.head(10)"
   ]
  },
  {
   "cell_type": "code",
   "execution_count": 273,
   "id": "d90d6572",
   "metadata": {},
   "outputs": [
    {
     "data": {
      "text/html": [
       "<div>\n",
       "<style scoped>\n",
       "    .dataframe tbody tr th:only-of-type {\n",
       "        vertical-align: middle;\n",
       "    }\n",
       "\n",
       "    .dataframe tbody tr th {\n",
       "        vertical-align: top;\n",
       "    }\n",
       "\n",
       "    .dataframe thead th {\n",
       "        text-align: right;\n",
       "    }\n",
       "</style>\n",
       "<table border=\"1\" class=\"dataframe\">\n",
       "  <thead>\n",
       "    <tr style=\"text-align: right;\">\n",
       "      <th></th>\n",
       "      <th>Source</th>\n",
       "      <th>Target</th>\n",
       "    </tr>\n",
       "  </thead>\n",
       "  <tbody>\n",
       "    <tr>\n",
       "      <th>0</th>\n",
       "      <td>George Keith</td>\n",
       "      <td>Robert Barclay</td>\n",
       "    </tr>\n",
       "    <tr>\n",
       "      <th>1</th>\n",
       "      <td>George Keith</td>\n",
       "      <td>Benjamin Furly</td>\n",
       "    </tr>\n",
       "    <tr>\n",
       "      <th>2</th>\n",
       "      <td>George Keith</td>\n",
       "      <td>Anne Conway Viscountess Conway and Killultagh</td>\n",
       "    </tr>\n",
       "    <tr>\n",
       "      <th>3</th>\n",
       "      <td>George Keith</td>\n",
       "      <td>Franciscus Mercurius van Helmont</td>\n",
       "    </tr>\n",
       "    <tr>\n",
       "      <th>4</th>\n",
       "      <td>George Keith</td>\n",
       "      <td>William Penn</td>\n",
       "    </tr>\n",
       "    <tr>\n",
       "      <th>5</th>\n",
       "      <td>George Keith</td>\n",
       "      <td>George Fox</td>\n",
       "    </tr>\n",
       "    <tr>\n",
       "      <th>6</th>\n",
       "      <td>George Keith</td>\n",
       "      <td>George Whitehead</td>\n",
       "    </tr>\n",
       "    <tr>\n",
       "      <th>7</th>\n",
       "      <td>George Keith</td>\n",
       "      <td>William Bradford</td>\n",
       "    </tr>\n",
       "    <tr>\n",
       "      <th>8</th>\n",
       "      <td>James Parnel</td>\n",
       "      <td>Benjamin Furly</td>\n",
       "    </tr>\n",
       "    <tr>\n",
       "      <th>9</th>\n",
       "      <td>James Parnel</td>\n",
       "      <td>Stephen Crisp</td>\n",
       "    </tr>\n",
       "  </tbody>\n",
       "</table>\n",
       "</div>"
      ],
      "text/plain": [
       "         Source                                         Target\n",
       "0  George Keith                                 Robert Barclay\n",
       "1  George Keith                                 Benjamin Furly\n",
       "2  George Keith  Anne Conway Viscountess Conway and Killultagh\n",
       "3  George Keith               Franciscus Mercurius van Helmont\n",
       "4  George Keith                                   William Penn\n",
       "5  George Keith                                     George Fox\n",
       "6  George Keith                               George Whitehead\n",
       "7  George Keith                               William Bradford\n",
       "8  James Parnel                                 Benjamin Furly\n",
       "9  James Parnel                                  Stephen Crisp"
      ]
     },
     "execution_count": 273,
     "metadata": {},
     "output_type": "execute_result"
    }
   ],
   "source": [
    "aristas.head(10)"
   ]
  },
  {
   "cell_type": "code",
   "execution_count": 275,
   "id": "4c4ece31",
   "metadata": {},
   "outputs": [],
   "source": [
    "#construimos el grafo\n",
    "graph = nx.Graph()\n",
    "#añadimos los nodos\n",
    "for name,historicalSignificance,gender,birthdate,deathdate,Id in zip(nodos['Name'],nodos['HistoricalSignificance'],nodos['Gender'],nodos['Birthdate'],nodos['Deathdate'],nodos['ID']):\n",
    "    graph.add_node(name, Name=name,HistoricalSignificance=historicalSignificance,Gender=gender,Birthdate=birthdate,Deathdate=deathdate,Id=Id)\n",
    "#añadimos las aristas\n",
    "for source,target in zip(aristas['Source'],aristas['Target']):\n",
    "    graph.add_edge(source,target)\n",
    "#print(list(graph.nodes))\n",
    "#print(list(graph.edges))\n",
    "#graph.nodes.data()\n",
    "#graph.edges.data()\n",
    "#graph.number_of_nodes()"
   ]
  },
  {
   "cell_type": "code",
   "execution_count": 276,
   "id": "3aaa3b52",
   "metadata": {},
   "outputs": [
    {
     "data": {
      "image/png": "[encoded data removed]",
      "text/plain": [
       "<Figure size 432x288 with 1 Axes>"
      ]
     },
     "metadata": {},
     "output_type": "display_data"
    }
   ],
   "source": [
    "#dibujamos el grafo\n",
    "nx.draw_kamada_kawai(graph)\n",
    "plt.show()"
   ]
  },
  {
   "cell_type": "code",
   "execution_count": 277,
   "id": "bd9d0859",
   "metadata": {},
   "outputs": [],
   "source": [
    "#A esto hay que darle una vuelta\n",
    "from sklearn import preprocessing"
   ]
  },
  {
   "cell_type": "code",
   "execution_count": 278,
   "id": "0860f3a2",
   "metadata": {},
   "outputs": [],
   "source": [
    "atributos = nodos.loc[:,'Name':'ID']\n",
    "objetivo = nodos['Gender']"
   ]
  },
  {
   "cell_type": "code",
   "execution_count": 279,
   "id": "8098c9bb",
   "metadata": {},
   "outputs": [
    {
     "data": {
      "text/html": [
       "<style>#sk-container-id-19 {color: black;background-color: white;}#sk-container-id-19 pre{padding: 0;}#sk-container-id-19 div.sk-toggleable {background-color: white;}#sk-container-id-19 label.sk-toggleable__label {cursor: pointer;display: block;width: 100%;margin-bottom: 0;padding: 0.3em;box-sizing: border-box;text-align: center;}#sk-container-id-19 label.sk-toggleable__label-arrow:before {content: \"▸\";float: left;margin-right: 0.25em;color: #696969;}#sk-container-id-19 label.sk-toggleable__label-arrow:hover:before {color: black;}#sk-container-id-19 div.sk-estimator:hover label.sk-toggleable__label-arrow:before {color: black;}#sk-container-id-19 div.sk-toggleable__content {max-height: 0;max-width: 0;overflow: hidden;text-align: left;background-color: #f0f8ff;}#sk-container-id-19 div.sk-toggleable__content pre {margin: 0.2em;color: black;border-radius: 0.25em;background-color: #f0f8ff;}#sk-container-id-19 input.sk-toggleable__control:checked~div.sk-toggleable__content {max-height: 200px;max-width: 100%;overflow: auto;}#sk-container-id-19 input.sk-toggleable__control:checked~label.sk-toggleable__label-arrow:before {content: \"▾\";}#sk-container-id-19 div.sk-estimator input.sk-toggleable__control:checked~label.sk-toggleable__label {background-color: #d4ebff;}#sk-container-id-19 div.sk-label input.sk-toggleable__control:checked~label.sk-toggleable__label {background-color: #d4ebff;}#sk-container-id-19 input.sk-hidden--visually {border: 0;clip: rect(1px 1px 1px 1px);clip: rect(1px, 1px, 1px, 1px);height: 1px;margin: -1px;overflow: hidden;padding: 0;position: absolute;width: 1px;}#sk-container-id-19 div.sk-estimator {font-family: monospace;background-color: #f0f8ff;border: 1px dotted black;border-radius: 0.25em;box-sizing: border-box;margin-bottom: 0.5em;}#sk-container-id-19 div.sk-estimator:hover {background-color: #d4ebff;}#sk-container-id-19 div.sk-parallel-item::after {content: \"\";width: 100%;border-bottom: 1px solid gray;flex-grow: 1;}#sk-container-id-19 div.sk-label:hover label.sk-toggleable__label {background-color: #d4ebff;}#sk-container-id-19 div.sk-serial::before {content: \"\";position: absolute;border-left: 1px solid gray;box-sizing: border-box;top: 0;bottom: 0;left: 50%;z-index: 0;}#sk-container-id-19 div.sk-serial {display: flex;flex-direction: column;align-items: center;background-color: white;padding-right: 0.2em;padding-left: 0.2em;position: relative;}#sk-container-id-19 div.sk-item {position: relative;z-index: 1;}#sk-container-id-19 div.sk-parallel {display: flex;align-items: stretch;justify-content: center;background-color: white;position: relative;}#sk-container-id-19 div.sk-item::before, #sk-container-id-19 div.sk-parallel-item::before {content: \"\";position: absolute;border-left: 1px solid gray;box-sizing: border-box;top: 0;bottom: 0;left: 50%;z-index: -1;}#sk-container-id-19 div.sk-parallel-item {display: flex;flex-direction: column;z-index: 1;position: relative;background-color: white;}#sk-container-id-19 div.sk-parallel-item:first-child::after {align-self: flex-end;width: 50%;}#sk-container-id-19 div.sk-parallel-item:last-child::after {align-self: flex-start;width: 50%;}#sk-container-id-19 div.sk-parallel-item:only-child::after {width: 0;}#sk-container-id-19 div.sk-dashed-wrapped {border: 1px dashed gray;margin: 0 0.4em 0.5em 0.4em;box-sizing: border-box;padding-bottom: 0.4em;background-color: white;}#sk-container-id-19 div.sk-label label {font-family: monospace;font-weight: bold;display: inline-block;line-height: 1.2em;}#sk-container-id-19 div.sk-label-container {text-align: center;}#sk-container-id-19 div.sk-container {/* jupyter's `normalize.less` sets `[hidden] { display: none; }` but bootstrap.min.css set `[hidden] { display: none !important; }` so we also need the `!important` here to be able to override the default hidden behavior on the sphinx rendered scikit-learn.org. See: https://github.com/scikit-learn/scikit-learn/issues/21755 */display: inline-block !important;position: relative;}#sk-container-id-19 div.sk-text-repr-fallback {display: none;}</style><div id=\"sk-container-id-19\" class=\"sk-top-container\"><div class=\"sk-text-repr-fallback\"><pre>OrdinalEncoder()</pre><b>In a Jupyter environment, please rerun this cell to show the HTML representation or trust the notebook. <br />On GitHub, the HTML representation is unable to render, please try loading this page with nbviewer.org.</b></div><div class=\"sk-container\" hidden><div class=\"sk-item\"><div class=\"sk-estimator sk-toggleable\"><input class=\"sk-toggleable__control sk-hidden--visually\" id=\"sk-estimator-id-19\" type=\"checkbox\" checked><label for=\"sk-estimator-id-19\" class=\"sk-toggleable__label sk-toggleable__label-arrow\">OrdinalEncoder</label><div class=\"sk-toggleable__content\"><pre>OrdinalEncoder()</pre></div></div></div></div></div>"
      ],
      "text/plain": [
       "OrdinalEncoder()"
      ]
     },
     "execution_count": 279,
     "metadata": {},
     "output_type": "execute_result"
    }
   ],
   "source": [
    "# Para realizar una codificación de los datos, se crea una instancia del tipo de\n",
    "# codificación pretendida y se ajusta a los datos disponibles mediante el método fit.\n",
    "\n",
    "codificador_atributos = preprocessing.OrdinalEncoder()\n",
    "codificador_atributos.fit(atributos)\n",
    "\n",
    "#Con este comando miras los valores que puede haber cuando el atributo ya esta codificado\n",
    "#print(codificador_atributos.categories_)"
   ]
  },
  {
   "cell_type": "code",
   "execution_count": 280,
   "id": "8d0cc66a",
   "metadata": {},
   "outputs": [],
   "source": [
    "# Una vez ajustado el codificador, el método transform permite codificar los\n",
    "# valores de los atributos\n",
    "atributos_codificados = codificador_atributos.transform(atributos)\n",
    "#print(atributos_codificados)"
   ]
  },
  {
   "cell_type": "code",
   "execution_count": 281,
   "id": "eae10c28",
   "metadata": {},
   "outputs": [],
   "source": [
    "# El codificador adecuado para la variable objetivo es LabelEncoder, que trabaja\n",
    "# con una lista o array unidimensional de sus valores\n",
    "codificador_objetivo = preprocessing.LabelEncoder()\n",
    "# El método fit_transform ajusta la codificación y la aplica a los datos justo\n",
    "# a continuación\n",
    "objetivo_codificado = codificador_objetivo.fit_transform(objetivo)"
   ]
  },
  {
   "cell_type": "code",
   "execution_count": 282,
   "id": "b98678fe",
   "metadata": {},
   "outputs": [
    {
     "name": "stdout",
     "output_type": "stream",
     "text": [
      "['female' 'male']\n"
     ]
    }
   ],
   "source": [
    "# Clases detectadas por el codificador para la variable objetivo\n",
    "print(codificador_objetivo.classes_)"
   ]
  },
  {
   "cell_type": "code",
   "execution_count": 283,
   "id": "6170abd0",
   "metadata": {},
   "outputs": [
    {
     "name": "stdout",
     "output_type": "stream",
     "text": [
      "[1 1 1 0 1 1 1 1 1 1 1 1 1 0 1 1 1 0 1 1 0 0 1 1 1 1 1 1 1 1 1 1 1 1 1 1 1\n",
      " 0 1 1 1 1 1 1 1 1 1 1 1 1 1 1 0 1 1 0 1 0 1 0 1 1 1 1 1 1 1 1 1 1 1 1 1 1\n",
      " 1 1 1 0 0 1 1 0 1 1 1 1 1 0 0 1 1 1 1 1 1 1 1 0 1 0 1 1 1 0 1 1 1 0 0 1 1\n",
      " 0 1 1 1 1 1 1 0]\n",
      "['male' 'female' 'male']\n"
     ]
    }
   ],
   "source": [
    "#1 es male, 0 es female\n",
    "print(objetivo_codificado)\n",
    "# Las respuestas predichas por los modelos estarán codificadas, pero el codificador\n",
    "# también permite descodificarlas\n",
    "print(codificador_objetivo.inverse_transform([1, 0, 1]))"
   ]
  },
  {
   "cell_type": "code",
   "execution_count": 284,
   "id": "6ea35e85",
   "metadata": {},
   "outputs": [
    {
     "name": "stdout",
     "output_type": "stream",
     "text": [
      "male      0.815126\n",
      "female    0.184874\n",
      "Name: Gender, dtype: float64\n"
     ]
    }
   ],
   "source": [
    "# Cantidad total de ejemplos\n",
    "#print(nodos.shape[0])\n",
    "# Frecuencia total de cada clase de aceptabilidad (porcentaje de cada valor objetivo en nuestro conjunto)\n",
    "print(pd.Series(objetivo).value_counts(normalize=True))"
   ]
  },
  {
   "cell_type": "code",
   "execution_count": 285,
   "id": "2a977f77",
   "metadata": {},
   "outputs": [],
   "source": [
    "from sklearn import model_selection"
   ]
  },
  {
   "cell_type": "code",
   "execution_count": 286,
   "id": "241cdfdd",
   "metadata": {},
   "outputs": [],
   "source": [
    "(atributos_entrenamiento, atributos_prueba,\n",
    " objetivo_entrenamiento, objetivo_prueba) = model_selection.train_test_split(\n",
    "        # Conjuntos de datos a dividir, usando los mismos índices para ambos\n",
    "        atributos_codificados, objetivo_codificado,\n",
    "        # Valor de la semilla aleatoria, para que el muestreo sea reproducible,\n",
    "        # a pesar de ser aleatorio\n",
    "        random_state=12345,\n",
    "        # Tamaño del conjunto de prueba\n",
    "        test_size=.20,\n",
    "        # Estratificamos respecto a la distribución de valores en la variable objetivo\n",
    "        stratify=objetivo_codificado)"
   ]
  },
  {
   "cell_type": "code",
   "execution_count": 287,
   "id": "763a752f",
   "metadata": {},
   "outputs": [
    {
     "name": "stdout",
     "output_type": "stream",
     "text": [
      "Cantidad de ejemplos de pruebas requeridos: 23.8\n",
      "Filas del array de atributos de prueba: 24\n",
      "Longitud del vector de objetivos de prueba: 24\n",
      "Proporción de clases en el vector de objetivos de prueba:\n",
      "male      0.833333\n",
      "female    0.166667\n",
      "dtype: float64\n"
     ]
    }
   ],
   "source": [
    "#Comprobamos que tiene todo los valores correctos del conjunto de pruebas\n",
    "print('Cantidad de ejemplos de pruebas requeridos:', 119 * .20)\n",
    "print('Filas del array de atributos de prueba:', atributos_prueba.shape[0])\n",
    "print('Longitud del vector de objetivos de prueba:', len(objetivo_prueba))\n",
    "print('Proporción de clases en el vector de objetivos de prueba:')\n",
    "print(pd.Series(\n",
    "        codificador_objetivo.inverse_transform(objetivo_prueba)\n",
    "      ).value_counts(normalize=True))"
   ]
  },
  {
   "cell_type": "code",
   "execution_count": 288,
   "id": "d9f9f5cc",
   "metadata": {},
   "outputs": [
    {
     "name": "stdout",
     "output_type": "stream",
     "text": [
      "Cantidad de ejemplos de entrenamiento requeridos: 95.2\n",
      "Filas del array de atributos de entrenamiento: 95\n",
      "Longitud del vector de objetivos de entrenamiento: 95\n",
      "Proporción de clases en el vector de objetivos de entrenamiento:\n",
      "male      0.810526\n",
      "female    0.189474\n",
      "dtype: float64\n"
     ]
    }
   ],
   "source": [
    "#Comprobamos que tiene todo los valores correctos del conjunto de pruebas\n",
    "print('Cantidad de ejemplos de entrenamiento requeridos:', 119 * .80)\n",
    "print('Filas del array de atributos de entrenamiento:', atributos_entrenamiento.shape[0])\n",
    "print('Longitud del vector de objetivos de entrenamiento:', len(objetivo_entrenamiento))\n",
    "print('Proporción de clases en el vector de objetivos de entrenamiento:')\n",
    "print(pd.Series(# Comprobamos que el \n",
    "        codificador_objetivo.inverse_transform(objetivo_entrenamiento)\n",
    "      ).value_counts(normalize=True))"
   ]
  },
  {
   "cell_type": "markdown",
   "id": "45c8fdf9",
   "metadata": {},
   "source": [
    "Para realizar aprendizaje supervisado en _sklearn_, basta crear una instancia de la clase de objetos que implemente el modelo que se quiera utilizar (_naive_ Bayes, árboles de decisión, _kNN_, etc.).\n",
    "\n",
    "Cada una de estas instancias dispondrá de los siguientes métodos:\n",
    "* El método `fit` permite entrenar el modelo, dados __por separado__ el conjunto de ejemplos de entrenamiento y la clase de cada uno de estos ejemplos.\n",
    "* El método `predict` permite clasificar un nuevo ejemplo una vez entrenado el modelo.\n",
    "* El método `score` calcula el rendimiento del modelo, dados __por separado__ el conjunto de ejemplos de prueba y la clase de cada uno de estos ejemplos."
   ]
  },
  {
   "cell_type": "code",
   "execution_count": 289,
   "id": "e9c7ead7",
   "metadata": {},
   "outputs": [],
   "source": [
    "#Hasta aqui lo he hemos hecho ha sido leer del csv los datos, meterlos en 1 conjunto de entrenamiento (80%)\n",
    "#y otro de pruebas(20%), despues hemos codificado, estos datos para que sean utilizables por los modelos\n",
    "#y ahora vamos a definir los modelos para hacer el entrenamiento de la maquina.\n",
    "#El primero a utilizar será Naive Bayes\n",
    "from sklearn import naive_bayes\n",
    "#print(atributos_entrenamiento)\n",
    "#print(objetivo_entrenamiento)\n",
    "#Aqui hemos tenido que arreglar el dataset porque había algunas incongruencias, y hemos tenido que cambiar algunos datos,\n",
    "#esto nos ha llevado 1 dia saber porque fallaba"
   ]
  },
  {
   "cell_type": "code",
   "execution_count": 290,
   "id": "8c94530f",
   "metadata": {},
   "outputs": [
    {
     "data": {
      "text/html": [
       "<style>#sk-container-id-20 {color: black;background-color: white;}#sk-container-id-20 pre{padding: 0;}#sk-container-id-20 div.sk-toggleable {background-color: white;}#sk-container-id-20 label.sk-toggleable__label {cursor: pointer;display: block;width: 100%;margin-bottom: 0;padding: 0.3em;box-sizing: border-box;text-align: center;}#sk-container-id-20 label.sk-toggleable__label-arrow:before {content: \"▸\";float: left;margin-right: 0.25em;color: #696969;}#sk-container-id-20 label.sk-toggleable__label-arrow:hover:before {color: black;}#sk-container-id-20 div.sk-estimator:hover label.sk-toggleable__label-arrow:before {color: black;}#sk-container-id-20 div.sk-toggleable__content {max-height: 0;max-width: 0;overflow: hidden;text-align: left;background-color: #f0f8ff;}#sk-container-id-20 div.sk-toggleable__content pre {margin: 0.2em;color: black;border-radius: 0.25em;background-color: #f0f8ff;}#sk-container-id-20 input.sk-toggleable__control:checked~div.sk-toggleable__content {max-height: 200px;max-width: 100%;overflow: auto;}#sk-container-id-20 input.sk-toggleable__control:checked~label.sk-toggleable__label-arrow:before {content: \"▾\";}#sk-container-id-20 div.sk-estimator input.sk-toggleable__control:checked~label.sk-toggleable__label {background-color: #d4ebff;}#sk-container-id-20 div.sk-label input.sk-toggleable__control:checked~label.sk-toggleable__label {background-color: #d4ebff;}#sk-container-id-20 input.sk-hidden--visually {border: 0;clip: rect(1px 1px 1px 1px);clip: rect(1px, 1px, 1px, 1px);height: 1px;margin: -1px;overflow: hidden;padding: 0;position: absolute;width: 1px;}#sk-container-id-20 div.sk-estimator {font-family: monospace;background-color: #f0f8ff;border: 1px dotted black;border-radius: 0.25em;box-sizing: border-box;margin-bottom: 0.5em;}#sk-container-id-20 div.sk-estimator:hover {background-color: #d4ebff;}#sk-container-id-20 div.sk-parallel-item::after {content: \"\";width: 100%;border-bottom: 1px solid gray;flex-grow: 1;}#sk-container-id-20 div.sk-label:hover label.sk-toggleable__label {background-color: #d4ebff;}#sk-container-id-20 div.sk-serial::before {content: \"\";position: absolute;border-left: 1px solid gray;box-sizing: border-box;top: 0;bottom: 0;left: 50%;z-index: 0;}#sk-container-id-20 div.sk-serial {display: flex;flex-direction: column;align-items: center;background-color: white;padding-right: 0.2em;padding-left: 0.2em;position: relative;}#sk-container-id-20 div.sk-item {position: relative;z-index: 1;}#sk-container-id-20 div.sk-parallel {display: flex;align-items: stretch;justify-content: center;background-color: white;position: relative;}#sk-container-id-20 div.sk-item::before, #sk-container-id-20 div.sk-parallel-item::before {content: \"\";position: absolute;border-left: 1px solid gray;box-sizing: border-box;top: 0;bottom: 0;left: 50%;z-index: -1;}#sk-container-id-20 div.sk-parallel-item {display: flex;flex-direction: column;z-index: 1;position: relative;background-color: white;}#sk-container-id-20 div.sk-parallel-item:first-child::after {align-self: flex-end;width: 50%;}#sk-container-id-20 div.sk-parallel-item:last-child::after {align-self: flex-start;width: 50%;}#sk-container-id-20 div.sk-parallel-item:only-child::after {width: 0;}#sk-container-id-20 div.sk-dashed-wrapped {border: 1px dashed gray;margin: 0 0.4em 0.5em 0.4em;box-sizing: border-box;padding-bottom: 0.4em;background-color: white;}#sk-container-id-20 div.sk-label label {font-family: monospace;font-weight: bold;display: inline-block;line-height: 1.2em;}#sk-container-id-20 div.sk-label-container {text-align: center;}#sk-container-id-20 div.sk-container {/* jupyter's `normalize.less` sets `[hidden] { display: none; }` but bootstrap.min.css set `[hidden] { display: none !important; }` so we also need the `!important` here to be able to override the default hidden behavior on the sphinx rendered scikit-learn.org. See: https://github.com/scikit-learn/scikit-learn/issues/21755 */display: inline-block !important;position: relative;}#sk-container-id-20 div.sk-text-repr-fallback {display: none;}</style><div id=\"sk-container-id-20\" class=\"sk-top-container\"><div class=\"sk-text-repr-fallback\"><pre>CategoricalNB()</pre><b>In a Jupyter environment, please rerun this cell to show the HTML representation or trust the notebook. <br />On GitHub, the HTML representation is unable to render, please try loading this page with nbviewer.org.</b></div><div class=\"sk-container\" hidden><div class=\"sk-item\"><div class=\"sk-estimator sk-toggleable\"><input class=\"sk-toggleable__control sk-hidden--visually\" id=\"sk-estimator-id-20\" type=\"checkbox\" checked><label for=\"sk-estimator-id-20\" class=\"sk-toggleable__label sk-toggleable__label-arrow\">CategoricalNB</label><div class=\"sk-toggleable__content\"><pre>CategoricalNB()</pre></div></div></div></div></div>"
      ],
      "text/plain": [
       "CategoricalNB()"
      ]
     },
     "execution_count": 290,
     "metadata": {},
     "output_type": "execute_result"
    }
   ],
   "source": [
    "#definimos nuestro parámetro de suavizado\n",
    "clasif_NB = naive_bayes.CategoricalNB(alpha=1.0)\n",
    "#llamamos al metodo .fit para entrenar nuestro modelo\n",
    "clasif_NB.fit(atributos_entrenamiento, objetivo_entrenamiento)"
   ]
  },
  {
   "cell_type": "code",
   "execution_count": 291,
   "id": "6c763d8e",
   "metadata": {},
   "outputs": [
    {
     "name": "stdout",
     "output_type": "stream",
     "text": [
      "Cantidad de ejemplos para la clase female: 18.0\n",
      "Logaritmo de la probabilidad aprendida para la clase female: -1.6635051337043762\n",
      "Cantidad de ejemplos para la clase male: 77.0\n",
      "Logaritmo de la probabilidad aprendida para la clase male: -0.21007146974685664\n"
     ]
    }
   ],
   "source": [
    "for clase, cantidad_ejemplos_clase, log_probabilidad_clase in zip(\n",
    "    codificador_objetivo.classes_, clasif_NB.class_count_, clasif_NB.class_log_prior_):\n",
    "        print(f'Cantidad de ejemplos para la clase {clase}: {cantidad_ejemplos_clase}')\n",
    "        print(f'Logaritmo de la probabilidad aprendida para la clase {clase}: {log_probabilidad_clase}')"
   ]
  },
  {
   "cell_type": "code",
   "execution_count": 292,
   "id": "9593a780",
   "metadata": {},
   "outputs": [
    {
     "name": "stdout",
     "output_type": "stream",
     "text": [
      "Cantidad de ejemplos para el atributo Name:\n",
      "        Alexander Parker  Alexander Skene of Newtyle  Alice Curwen  Anne Camm  \\\n",
      "female               0.0                         0.0           1.0        0.0   \n",
      "male                 1.0                         1.0           0.0        0.0   \n",
      "\n",
      "        Anne Conway Viscountess Conway and Killultagh  Anthony Pearson  \\\n",
      "female                                            1.0              0.0   \n",
      "male                                              0.0              1.0   \n",
      "\n",
      "        Anthony Sharp  Benjamin Furly  Charles Marshall  Christopher Taylor  \\\n",
      "female            0.0             0.0               0.0                 0.0   \n",
      "male              1.0             1.0               1.0                 1.0   \n",
      "\n",
      "        ...  William Crouch  William Dewsbury  William Edmundson  \\\n",
      "female  ...             0.0               0.0                0.0   \n",
      "male    ...             0.0               1.0                0.0   \n",
      "\n",
      "        William Gibson  William Mead  William Mucklow  William Penn  \\\n",
      "female             0.0           0.0              0.0           0.0   \n",
      "male               1.0           1.0              1.0           1.0   \n",
      "\n",
      "        William Rogers  William Simpson  William Tomlinson  \n",
      "female             0.0              0.0                0.0  \n",
      "male               0.0              1.0                1.0  \n",
      "\n",
      "[2 rows x 119 columns]\n",
      "Logaritmos de las probabilidades aprendidas para el atributo Name:\n",
      "        Alexander Parker  Alexander Skene of Newtyle  Alice Curwen  Anne Camm  \\\n",
      "female         -4.919981                   -4.919981     -4.226834  -4.919981   \n",
      "male           -4.584967                   -4.584967     -5.278115  -5.278115   \n",
      "\n",
      "        Anne Conway Viscountess Conway and Killultagh  Anthony Pearson  \\\n",
      "female                                      -4.226834        -4.919981   \n",
      "male                                        -5.278115        -4.584967   \n",
      "\n",
      "        Anthony Sharp  Benjamin Furly  Charles Marshall  Christopher Taylor  \\\n",
      "female      -4.919981       -4.919981         -4.919981           -4.919981   \n",
      "male        -4.584967       -4.584967         -4.584967           -4.584967   \n",
      "\n",
      "        ...  William Crouch  William Dewsbury  William Edmundson  \\\n",
      "female  ...       -4.919981         -4.919981          -4.919981   \n",
      "male    ...       -5.278115         -4.584967          -5.278115   \n",
      "\n",
      "        William Gibson  William Mead  William Mucklow  William Penn  \\\n",
      "female       -4.919981     -4.919981        -4.919981     -4.919981   \n",
      "male         -4.584967     -4.584967        -4.584967     -4.584967   \n",
      "\n",
      "        William Rogers  William Simpson  William Tomlinson  \n",
      "female       -4.919981        -4.919981          -4.919981  \n",
      "male         -5.278115        -4.584967          -4.584967  \n",
      "\n",
      "[2 rows x 119 columns]\n",
      "\n",
      "Cantidad de ejemplos para el atributo HistoricalSignificance:\n"
     ]
    },
    {
     "ename": "ValueError",
     "evalue": "Shape of passed values is (2, 64), indices imply (2, 65)",
     "output_type": "error",
     "traceback": [
      "\u001b[1;31m---------------------------------------------------------------------------\u001b[0m",
      "\u001b[1;31mValueError\u001b[0m                                Traceback (most recent call last)",
      "Input \u001b[1;32mIn [292]\u001b[0m, in \u001b[0;36m<cell line: 1>\u001b[1;34m()\u001b[0m\n\u001b[0;32m      1\u001b[0m \u001b[38;5;28;01mfor\u001b[39;00m i, atributo \u001b[38;5;129;01min\u001b[39;00m \u001b[38;5;28menumerate\u001b[39m(codificador_atributos\u001b[38;5;241m.\u001b[39mfeature_names_in_):\n\u001b[0;32m      2\u001b[0m     \u001b[38;5;28mprint\u001b[39m(\u001b[38;5;124mf\u001b[39m\u001b[38;5;124m'\u001b[39m\u001b[38;5;124mCantidad de ejemplos para el atributo \u001b[39m\u001b[38;5;132;01m{\u001b[39;00matributo\u001b[38;5;132;01m}\u001b[39;00m\u001b[38;5;124m:\u001b[39m\u001b[38;5;124m'\u001b[39m)\n\u001b[1;32m----> 3\u001b[0m     \u001b[38;5;28mprint\u001b[39m(\u001b[43mpd\u001b[49m\u001b[38;5;241;43m.\u001b[39;49m\u001b[43mDataFrame\u001b[49m\u001b[43m(\u001b[49m\u001b[43mclasif_NB\u001b[49m\u001b[38;5;241;43m.\u001b[39;49m\u001b[43mcategory_count_\u001b[49m\u001b[43m[\u001b[49m\u001b[43mi\u001b[49m\u001b[43m]\u001b[49m\u001b[43m,\u001b[49m\n\u001b[0;32m      4\u001b[0m \u001b[43m                          \u001b[49m\u001b[43mcolumns\u001b[49m\u001b[38;5;241;43m=\u001b[39;49m\u001b[43mcodificador_atributos\u001b[49m\u001b[38;5;241;43m.\u001b[39;49m\u001b[43mcategories_\u001b[49m\u001b[43m[\u001b[49m\u001b[43mi\u001b[49m\u001b[43m]\u001b[49m\u001b[43m,\u001b[49m\n\u001b[0;32m      5\u001b[0m \u001b[43m                          \u001b[49m\u001b[43mindex\u001b[49m\u001b[38;5;241;43m=\u001b[39;49m\u001b[43mcodificador_objetivo\u001b[49m\u001b[38;5;241;43m.\u001b[39;49m\u001b[43mclasses_\u001b[49m\u001b[43m)\u001b[49m)\n\u001b[0;32m      6\u001b[0m     \u001b[38;5;28mprint\u001b[39m(\u001b[38;5;124mf\u001b[39m\u001b[38;5;124m'\u001b[39m\u001b[38;5;124mLogaritmos de las probabilidades aprendidas para el atributo \u001b[39m\u001b[38;5;132;01m{\u001b[39;00matributo\u001b[38;5;132;01m}\u001b[39;00m\u001b[38;5;124m:\u001b[39m\u001b[38;5;124m'\u001b[39m)\n\u001b[0;32m      7\u001b[0m     \u001b[38;5;28mprint\u001b[39m(pd\u001b[38;5;241m.\u001b[39mDataFrame(clasif_NB\u001b[38;5;241m.\u001b[39mfeature_log_prob_[i],\n\u001b[0;32m      8\u001b[0m                           columns\u001b[38;5;241m=\u001b[39mcodificador_atributos\u001b[38;5;241m.\u001b[39mcategories_[i],\n\u001b[0;32m      9\u001b[0m                           index\u001b[38;5;241m=\u001b[39mcodificador_objetivo\u001b[38;5;241m.\u001b[39mclasses_))\n",
      "File \u001b[1;32mE:\\Anaconda\\lib\\site-packages\\pandas\\core\\frame.py:694\u001b[0m, in \u001b[0;36mDataFrame.__init__\u001b[1;34m(self, data, index, columns, dtype, copy)\u001b[0m\n\u001b[0;32m    684\u001b[0m         mgr \u001b[38;5;241m=\u001b[39m dict_to_mgr(\n\u001b[0;32m    685\u001b[0m             \u001b[38;5;66;03m# error: Item \"ndarray\" of \"Union[ndarray, Series, Index]\" has no\u001b[39;00m\n\u001b[0;32m    686\u001b[0m             \u001b[38;5;66;03m# attribute \"name\"\u001b[39;00m\n\u001b[1;32m   (...)\u001b[0m\n\u001b[0;32m    691\u001b[0m             typ\u001b[38;5;241m=\u001b[39mmanager,\n\u001b[0;32m    692\u001b[0m         )\n\u001b[0;32m    693\u001b[0m     \u001b[38;5;28;01melse\u001b[39;00m:\n\u001b[1;32m--> 694\u001b[0m         mgr \u001b[38;5;241m=\u001b[39m \u001b[43mndarray_to_mgr\u001b[49m\u001b[43m(\u001b[49m\n\u001b[0;32m    695\u001b[0m \u001b[43m            \u001b[49m\u001b[43mdata\u001b[49m\u001b[43m,\u001b[49m\n\u001b[0;32m    696\u001b[0m \u001b[43m            \u001b[49m\u001b[43mindex\u001b[49m\u001b[43m,\u001b[49m\n\u001b[0;32m    697\u001b[0m \u001b[43m            \u001b[49m\u001b[43mcolumns\u001b[49m\u001b[43m,\u001b[49m\n\u001b[0;32m    698\u001b[0m \u001b[43m            \u001b[49m\u001b[43mdtype\u001b[49m\u001b[38;5;241;43m=\u001b[39;49m\u001b[43mdtype\u001b[49m\u001b[43m,\u001b[49m\n\u001b[0;32m    699\u001b[0m \u001b[43m            \u001b[49m\u001b[43mcopy\u001b[49m\u001b[38;5;241;43m=\u001b[39;49m\u001b[43mcopy\u001b[49m\u001b[43m,\u001b[49m\n\u001b[0;32m    700\u001b[0m \u001b[43m            \u001b[49m\u001b[43mtyp\u001b[49m\u001b[38;5;241;43m=\u001b[39;49m\u001b[43mmanager\u001b[49m\u001b[43m,\u001b[49m\n\u001b[0;32m    701\u001b[0m \u001b[43m        \u001b[49m\u001b[43m)\u001b[49m\n\u001b[0;32m    703\u001b[0m \u001b[38;5;66;03m# For data is list-like, or Iterable (will consume into list)\u001b[39;00m\n\u001b[0;32m    704\u001b[0m \u001b[38;5;28;01melif\u001b[39;00m is_list_like(data):\n",
      "File \u001b[1;32mE:\\Anaconda\\lib\\site-packages\\pandas\\core\\internals\\construction.py:351\u001b[0m, in \u001b[0;36mndarray_to_mgr\u001b[1;34m(values, index, columns, dtype, copy, typ)\u001b[0m\n\u001b[0;32m    346\u001b[0m \u001b[38;5;66;03m# _prep_ndarray ensures that values.ndim == 2 at this point\u001b[39;00m\n\u001b[0;32m    347\u001b[0m index, columns \u001b[38;5;241m=\u001b[39m _get_axes(\n\u001b[0;32m    348\u001b[0m     values\u001b[38;5;241m.\u001b[39mshape[\u001b[38;5;241m0\u001b[39m], values\u001b[38;5;241m.\u001b[39mshape[\u001b[38;5;241m1\u001b[39m], index\u001b[38;5;241m=\u001b[39mindex, columns\u001b[38;5;241m=\u001b[39mcolumns\n\u001b[0;32m    349\u001b[0m )\n\u001b[1;32m--> 351\u001b[0m \u001b[43m_check_values_indices_shape_match\u001b[49m\u001b[43m(\u001b[49m\u001b[43mvalues\u001b[49m\u001b[43m,\u001b[49m\u001b[43m \u001b[49m\u001b[43mindex\u001b[49m\u001b[43m,\u001b[49m\u001b[43m \u001b[49m\u001b[43mcolumns\u001b[49m\u001b[43m)\u001b[49m\n\u001b[0;32m    353\u001b[0m \u001b[38;5;28;01mif\u001b[39;00m typ \u001b[38;5;241m==\u001b[39m \u001b[38;5;124m\"\u001b[39m\u001b[38;5;124marray\u001b[39m\u001b[38;5;124m\"\u001b[39m:\n\u001b[0;32m    355\u001b[0m     \u001b[38;5;28;01mif\u001b[39;00m \u001b[38;5;28missubclass\u001b[39m(values\u001b[38;5;241m.\u001b[39mdtype\u001b[38;5;241m.\u001b[39mtype, \u001b[38;5;28mstr\u001b[39m):\n",
      "File \u001b[1;32mE:\\Anaconda\\lib\\site-packages\\pandas\\core\\internals\\construction.py:422\u001b[0m, in \u001b[0;36m_check_values_indices_shape_match\u001b[1;34m(values, index, columns)\u001b[0m\n\u001b[0;32m    420\u001b[0m passed \u001b[38;5;241m=\u001b[39m values\u001b[38;5;241m.\u001b[39mshape\n\u001b[0;32m    421\u001b[0m implied \u001b[38;5;241m=\u001b[39m (\u001b[38;5;28mlen\u001b[39m(index), \u001b[38;5;28mlen\u001b[39m(columns))\n\u001b[1;32m--> 422\u001b[0m \u001b[38;5;28;01mraise\u001b[39;00m \u001b[38;5;167;01mValueError\u001b[39;00m(\u001b[38;5;124mf\u001b[39m\u001b[38;5;124m\"\u001b[39m\u001b[38;5;124mShape of passed values is \u001b[39m\u001b[38;5;132;01m{\u001b[39;00mpassed\u001b[38;5;132;01m}\u001b[39;00m\u001b[38;5;124m, indices imply \u001b[39m\u001b[38;5;132;01m{\u001b[39;00mimplied\u001b[38;5;132;01m}\u001b[39;00m\u001b[38;5;124m\"\u001b[39m)\n",
      "\u001b[1;31mValueError\u001b[0m: Shape of passed values is (2, 64), indices imply (2, 65)"
     ]
    }
   ],
   "source": [
    "for i, atributo in enumerate(codificador_atributos.feature_names_in_):\n",
    "    print(f'Cantidad de ejemplos para el atributo {atributo}:')\n",
    "    print(pd.DataFrame(clasif_NB.category_count_[i],\n",
    "                          columns=codificador_atributos.categories_[i],\n",
    "                          index=codificador_objetivo.classes_))\n",
    "    print(f'Logaritmos de las probabilidades aprendidas para el atributo {atributo}:')\n",
    "    print(pd.DataFrame(clasif_NB.feature_log_prob_[i],\n",
    "                          columns=codificador_atributos.categories_[i],\n",
    "                          index=codificador_objetivo.classes_))\n",
    "    print()"
   ]
  },
  {
   "cell_type": "code",
   "execution_count": 293,
   "id": "2fb321ea",
   "metadata": {},
   "outputs": [
    {
     "data": {
      "text/html": [
       "<div>\n",
       "<style scoped>\n",
       "    .dataframe tbody tr th:only-of-type {\n",
       "        vertical-align: middle;\n",
       "    }\n",
       "\n",
       "    .dataframe tbody tr th {\n",
       "        vertical-align: top;\n",
       "    }\n",
       "\n",
       "    .dataframe thead th {\n",
       "        text-align: right;\n",
       "    }\n",
       "</style>\n",
       "<table border=\"1\" class=\"dataframe\">\n",
       "  <thead>\n",
       "    <tr style=\"text-align: right;\">\n",
       "      <th></th>\n",
       "      <th>Name</th>\n",
       "      <th>HistoricalSignificance</th>\n",
       "      <th>Birthdate</th>\n",
       "      <th>Deathdate</th>\n",
       "      <th>ID</th>\n",
       "    </tr>\n",
       "  </thead>\n",
       "  <tbody>\n",
       "    <tr>\n",
       "      <th>0</th>\n",
       "      <td>Joseph Wyeth</td>\n",
       "      <td>religious writer</td>\n",
       "      <td>1621</td>\n",
       "      <td>1751</td>\n",
       "      <td>10013191</td>\n",
       "    </tr>\n",
       "    <tr>\n",
       "      <th>1</th>\n",
       "      <td>Lilias Skene</td>\n",
       "      <td>Quaker preacher and poet</td>\n",
       "      <td>1676</td>\n",
       "      <td>1697</td>\n",
       "      <td>10011152</td>\n",
       "    </tr>\n",
       "  </tbody>\n",
       "</table>\n",
       "</div>"
      ],
      "text/plain": [
       "           Name    HistoricalSignificance Birthdate Deathdate        ID\n",
       "0  Joseph Wyeth          religious writer      1621      1751  10013191\n",
       "1  Lilias Skene  Quaker preacher and poet      1676      1697  10011152"
      ]
     },
     "execution_count": 293,
     "metadata": {},
     "output_type": "execute_result"
    }
   ],
   "source": [
    "nuevos_ejemplos = pd.DataFrame([['Joseph Wyeth', 'religious writer', '1621', '1751', '10013191'],\n",
    "                                    ['Lilias Skene', 'Quaker preacher and poet', '1676', '1697', '10011152']],\n",
    "                                   columns=codificador_atributos.feature_names_in_)\n",
    "nuevos_ejemplos"
   ]
  },
  {
   "cell_type": "code",
   "execution_count": 294,
   "id": "2caa144a",
   "metadata": {},
   "outputs": [
    {
     "ename": "ValueError",
     "evalue": "Found unknown categories ['1621', '1676'] in column 2 during transform",
     "output_type": "error",
     "traceback": [
      "\u001b[1;31m---------------------------------------------------------------------------\u001b[0m",
      "\u001b[1;31mValueError\u001b[0m                                Traceback (most recent call last)",
      "Input \u001b[1;32mIn [294]\u001b[0m, in \u001b[0;36m<cell line: 1>\u001b[1;34m()\u001b[0m\n\u001b[1;32m----> 1\u001b[0m predicciones \u001b[38;5;241m=\u001b[39m clasif_NB\u001b[38;5;241m.\u001b[39mpredict(\u001b[43mcodificador_atributos\u001b[49m\u001b[38;5;241;43m.\u001b[39;49m\u001b[43mtransform\u001b[49m\u001b[43m(\u001b[49m\u001b[43mnuevos_ejemplos\u001b[49m\u001b[43m)\u001b[49m)\n\u001b[0;32m      2\u001b[0m codificador_objetivo\u001b[38;5;241m.\u001b[39minverse_transform(predicciones)\n",
      "File \u001b[1;32mE:\\Anaconda\\lib\\site-packages\\sklearn\\preprocessing\\_encoders.py:1363\u001b[0m, in \u001b[0;36mOrdinalEncoder.transform\u001b[1;34m(self, X)\u001b[0m\n\u001b[0;32m   1349\u001b[0m \u001b[38;5;28;01mdef\u001b[39;00m \u001b[38;5;21mtransform\u001b[39m(\u001b[38;5;28mself\u001b[39m, X):\n\u001b[0;32m   1350\u001b[0m     \u001b[38;5;124;03m\"\"\"\u001b[39;00m\n\u001b[0;32m   1351\u001b[0m \u001b[38;5;124;03m    Transform X to ordinal codes.\u001b[39;00m\n\u001b[0;32m   1352\u001b[0m \n\u001b[1;32m   (...)\u001b[0m\n\u001b[0;32m   1361\u001b[0m \u001b[38;5;124;03m        Transformed input.\u001b[39;00m\n\u001b[0;32m   1362\u001b[0m \u001b[38;5;124;03m    \"\"\"\u001b[39;00m\n\u001b[1;32m-> 1363\u001b[0m     X_int, X_mask \u001b[38;5;241m=\u001b[39m \u001b[38;5;28;43mself\u001b[39;49m\u001b[38;5;241;43m.\u001b[39;49m\u001b[43m_transform\u001b[49m\u001b[43m(\u001b[49m\n\u001b[0;32m   1364\u001b[0m \u001b[43m        \u001b[49m\u001b[43mX\u001b[49m\u001b[43m,\u001b[49m\u001b[43m \u001b[49m\u001b[43mhandle_unknown\u001b[49m\u001b[38;5;241;43m=\u001b[39;49m\u001b[38;5;28;43mself\u001b[39;49m\u001b[38;5;241;43m.\u001b[39;49m\u001b[43mhandle_unknown\u001b[49m\u001b[43m,\u001b[49m\u001b[43m \u001b[49m\u001b[43mforce_all_finite\u001b[49m\u001b[38;5;241;43m=\u001b[39;49m\u001b[38;5;124;43m\"\u001b[39;49m\u001b[38;5;124;43mallow-nan\u001b[39;49m\u001b[38;5;124;43m\"\u001b[39;49m\n\u001b[0;32m   1365\u001b[0m \u001b[43m    \u001b[49m\u001b[43m)\u001b[49m\n\u001b[0;32m   1366\u001b[0m     X_trans \u001b[38;5;241m=\u001b[39m X_int\u001b[38;5;241m.\u001b[39mastype(\u001b[38;5;28mself\u001b[39m\u001b[38;5;241m.\u001b[39mdtype, copy\u001b[38;5;241m=\u001b[39m\u001b[38;5;28;01mFalse\u001b[39;00m)\n\u001b[0;32m   1368\u001b[0m     \u001b[38;5;28;01mfor\u001b[39;00m cat_idx, missing_idx \u001b[38;5;129;01min\u001b[39;00m \u001b[38;5;28mself\u001b[39m\u001b[38;5;241m.\u001b[39m_missing_indices\u001b[38;5;241m.\u001b[39mitems():\n",
      "File \u001b[1;32mE:\\Anaconda\\lib\\site-packages\\sklearn\\preprocessing\\_encoders.py:160\u001b[0m, in \u001b[0;36m_BaseEncoder._transform\u001b[1;34m(self, X, handle_unknown, force_all_finite, warn_on_unknown)\u001b[0m\n\u001b[0;32m    155\u001b[0m \u001b[38;5;28;01mif\u001b[39;00m handle_unknown \u001b[38;5;241m==\u001b[39m \u001b[38;5;124m\"\u001b[39m\u001b[38;5;124merror\u001b[39m\u001b[38;5;124m\"\u001b[39m:\n\u001b[0;32m    156\u001b[0m     msg \u001b[38;5;241m=\u001b[39m (\n\u001b[0;32m    157\u001b[0m         \u001b[38;5;124m\"\u001b[39m\u001b[38;5;124mFound unknown categories \u001b[39m\u001b[38;5;132;01m{0}\u001b[39;00m\u001b[38;5;124m in column \u001b[39m\u001b[38;5;132;01m{1}\u001b[39;00m\u001b[38;5;124m\"\u001b[39m\n\u001b[0;32m    158\u001b[0m         \u001b[38;5;124m\"\u001b[39m\u001b[38;5;124m during transform\u001b[39m\u001b[38;5;124m\"\u001b[39m\u001b[38;5;241m.\u001b[39mformat(diff, i)\n\u001b[0;32m    159\u001b[0m     )\n\u001b[1;32m--> 160\u001b[0m     \u001b[38;5;28;01mraise\u001b[39;00m \u001b[38;5;167;01mValueError\u001b[39;00m(msg)\n\u001b[0;32m    161\u001b[0m \u001b[38;5;28;01melse\u001b[39;00m:\n\u001b[0;32m    162\u001b[0m     \u001b[38;5;28;01mif\u001b[39;00m warn_on_unknown:\n",
      "\u001b[1;31mValueError\u001b[0m: Found unknown categories ['1621', '1676'] in column 2 during transform"
     ]
    }
   ],
   "source": [
    "predicciones = clasif_NB.predict(codificador_atributos.transform(nuevos_ejemplos))\n",
    "codificador_objetivo.inverse_transform(predicciones)"
   ]
  },
  {
   "cell_type": "code",
   "execution_count": null,
   "id": "4e82c399",
   "metadata": {},
   "outputs": [],
   "source": []
  },
  {
   "cell_type": "code",
   "execution_count": null,
   "id": "9dc00563",
   "metadata": {},
   "outputs": [],
   "source": []
  },
  {
   "cell_type": "code",
   "execution_count": null,
   "id": "42bf7c16",
   "metadata": {},
   "outputs": [],
   "source": []
  },
  {
   "cell_type": "code",
   "execution_count": null,
   "id": "fd6b88f5",
   "metadata": {},
   "outputs": [],
   "source": []
  },
  {
   "cell_type": "code",
   "execution_count": null,
   "id": "139afdd0",
   "metadata": {},
   "outputs": [],
   "source": []
  },
  {
   "cell_type": "code",
   "execution_count": null,
   "id": "dae48bfe",
   "metadata": {},
   "outputs": [],
   "source": []
  },
  {
   "cell_type": "code",
   "execution_count": 40,
   "id": "e59df714",
   "metadata": {},
   "outputs": [
    {
     "data": {
      "text/html": [
       "<div>\n",
       "<style scoped>\n",
       "    .dataframe tbody tr th:only-of-type {\n",
       "        vertical-align: middle;\n",
       "    }\n",
       "\n",
       "    .dataframe tbody tr th {\n",
       "        vertical-align: top;\n",
       "    }\n",
       "\n",
       "    .dataframe thead th {\n",
       "        text-align: right;\n",
       "    }\n",
       "</style>\n",
       "<table border=\"1\" class=\"dataframe\">\n",
       "  <thead>\n",
       "    <tr style=\"text-align: right;\">\n",
       "      <th></th>\n",
       "      <th>grado_centralidad</th>\n",
       "    </tr>\n",
       "  </thead>\n",
       "  <tbody>\n",
       "    <tr>\n",
       "      <th>George Fox</th>\n",
       "      <td>0.186441</td>\n",
       "    </tr>\n",
       "    <tr>\n",
       "      <th>William Penn</th>\n",
       "      <td>0.152542</td>\n",
       "    </tr>\n",
       "    <tr>\n",
       "      <th>James Nayler</th>\n",
       "      <td>0.135593</td>\n",
       "    </tr>\n",
       "    <tr>\n",
       "      <th>George Whitehead</th>\n",
       "      <td>0.110169</td>\n",
       "    </tr>\n",
       "    <tr>\n",
       "      <th>Margaret Fell</th>\n",
       "      <td>0.110169</td>\n",
       "    </tr>\n",
       "    <tr>\n",
       "      <th>Benjamin Furly</th>\n",
       "      <td>0.084746</td>\n",
       "    </tr>\n",
       "    <tr>\n",
       "      <th>Edward Burrough</th>\n",
       "      <td>0.076271</td>\n",
       "    </tr>\n",
       "    <tr>\n",
       "      <th>Thomas Ellwood</th>\n",
       "      <td>0.067797</td>\n",
       "    </tr>\n",
       "    <tr>\n",
       "      <th>George Keith</th>\n",
       "      <td>0.067797</td>\n",
       "    </tr>\n",
       "    <tr>\n",
       "      <th>Francis Howgill</th>\n",
       "      <td>0.059322</td>\n",
       "    </tr>\n",
       "  </tbody>\n",
       "</table>\n",
       "</div>"
      ],
      "text/plain": [
       "                  grado_centralidad\n",
       "George Fox                 0.186441\n",
       "William Penn               0.152542\n",
       "James Nayler               0.135593\n",
       "George Whitehead           0.110169\n",
       "Margaret Fell              0.110169\n",
       "Benjamin Furly             0.084746\n",
       "Edward Burrough            0.076271\n",
       "Thomas Ellwood             0.067797\n",
       "George Keith               0.067797\n",
       "Francis Howgill            0.059322"
      ]
     },
     "execution_count": 40,
     "metadata": {},
     "output_type": "execute_result"
    }
   ],
   "source": [
    "#Centralidad de personas más relacionadas\n",
    "pd.DataFrame.from_dict(nx.algorithms.centrality.degree_centrality(graph), \n",
    "                       orient='index',\n",
    "                       columns = ['grado_centralidad'])\\\n",
    "            .sort_values(['grado_centralidad'], \n",
    "                         ascending = False)\\\n",
    "            .head(10)"
   ]
  },
  {
   "cell_type": "code",
   "execution_count": 41,
   "id": "fdfbb983",
   "metadata": {},
   "outputs": [
    {
     "data": {
      "text/html": [
       "<div>\n",
       "<style scoped>\n",
       "    .dataframe tbody tr th:only-of-type {\n",
       "        vertical-align: middle;\n",
       "    }\n",
       "\n",
       "    .dataframe tbody tr th {\n",
       "        vertical-align: top;\n",
       "    }\n",
       "\n",
       "    .dataframe thead th {\n",
       "        text-align: right;\n",
       "    }\n",
       "</style>\n",
       "<table border=\"1\" class=\"dataframe\">\n",
       "  <thead>\n",
       "    <tr style=\"text-align: right;\">\n",
       "      <th></th>\n",
       "      <th>centralidad_proximidad</th>\n",
       "    </tr>\n",
       "  </thead>\n",
       "  <tbody>\n",
       "    <tr>\n",
       "      <th>George Fox</th>\n",
       "      <td>0.392221</td>\n",
       "    </tr>\n",
       "    <tr>\n",
       "      <th>William Penn</th>\n",
       "      <td>0.373088</td>\n",
       "    </tr>\n",
       "    <tr>\n",
       "      <th>George Whitehead</th>\n",
       "      <td>0.354088</td>\n",
       "    </tr>\n",
       "    <tr>\n",
       "      <th>Margaret Fell</th>\n",
       "      <td>0.338421</td>\n",
       "    </tr>\n",
       "    <tr>\n",
       "      <th>James Nayler</th>\n",
       "      <td>0.331095</td>\n",
       "    </tr>\n",
       "    <tr>\n",
       "      <th>George Keith</th>\n",
       "      <td>0.325460</td>\n",
       "    </tr>\n",
       "    <tr>\n",
       "      <th>Benjamin Furly</th>\n",
       "      <td>0.321357</td>\n",
       "    </tr>\n",
       "    <tr>\n",
       "      <th>Thomas Ellwood</th>\n",
       "      <td>0.302305</td>\n",
       "    </tr>\n",
       "    <tr>\n",
       "      <th>Edward Burrough</th>\n",
       "      <td>0.297599</td>\n",
       "    </tr>\n",
       "    <tr>\n",
       "      <th>Rebecca Travers</th>\n",
       "      <td>0.297599</td>\n",
       "    </tr>\n",
       "  </tbody>\n",
       "</table>\n",
       "</div>"
      ],
      "text/plain": [
       "                  centralidad_proximidad\n",
       "George Fox                      0.392221\n",
       "William Penn                    0.373088\n",
       "George Whitehead                0.354088\n",
       "Margaret Fell                   0.338421\n",
       "James Nayler                    0.331095\n",
       "George Keith                    0.325460\n",
       "Benjamin Furly                  0.321357\n",
       "Thomas Ellwood                  0.302305\n",
       "Edward Burrough                 0.297599\n",
       "Rebecca Travers                 0.297599"
      ]
     },
     "execution_count": 41,
     "metadata": {},
     "output_type": "execute_result"
    }
   ],
   "source": [
    "#Centralidad de personas más cercanas\n",
    "pd.DataFrame.from_dict(nx.closeness_centrality(graph), \n",
    "                       orient='index', \n",
    "                       columns = ['centralidad_proximidad']) \\\n",
    "            .sort_values(['centralidad_proximidad'], ascending = False) \\\n",
    "            .head(10)"
   ]
  },
  {
   "cell_type": "code",
   "execution_count": 42,
   "id": "d4fb0a9f",
   "metadata": {},
   "outputs": [
    {
     "data": {
      "text/html": [
       "<div>\n",
       "<style scoped>\n",
       "    .dataframe tbody tr th:only-of-type {\n",
       "        vertical-align: middle;\n",
       "    }\n",
       "\n",
       "    .dataframe tbody tr th {\n",
       "        vertical-align: top;\n",
       "    }\n",
       "\n",
       "    .dataframe thead th {\n",
       "        text-align: right;\n",
       "    }\n",
       "</style>\n",
       "<table border=\"1\" class=\"dataframe\">\n",
       "  <thead>\n",
       "    <tr style=\"text-align: right;\">\n",
       "      <th></th>\n",
       "      <th>centralidad_intermedio</th>\n",
       "    </tr>\n",
       "  </thead>\n",
       "  <tbody>\n",
       "    <tr>\n",
       "      <th>William Penn</th>\n",
       "      <td>0.239995</td>\n",
       "    </tr>\n",
       "    <tr>\n",
       "      <th>George Fox</th>\n",
       "      <td>0.236833</td>\n",
       "    </tr>\n",
       "    <tr>\n",
       "      <th>George Whitehead</th>\n",
       "      <td>0.126320</td>\n",
       "    </tr>\n",
       "    <tr>\n",
       "      <th>Margaret Fell</th>\n",
       "      <td>0.121068</td>\n",
       "    </tr>\n",
       "    <tr>\n",
       "      <th>James Nayler</th>\n",
       "      <td>0.104460</td>\n",
       "    </tr>\n",
       "    <tr>\n",
       "      <th>Benjamin Furly</th>\n",
       "      <td>0.064196</td>\n",
       "    </tr>\n",
       "    <tr>\n",
       "      <th>Thomas Ellwood</th>\n",
       "      <td>0.046191</td>\n",
       "    </tr>\n",
       "    <tr>\n",
       "      <th>George Keith</th>\n",
       "      <td>0.045007</td>\n",
       "    </tr>\n",
       "    <tr>\n",
       "      <th>John Audland</th>\n",
       "      <td>0.041649</td>\n",
       "    </tr>\n",
       "    <tr>\n",
       "      <th>Alexander Parker</th>\n",
       "      <td>0.038937</td>\n",
       "    </tr>\n",
       "  </tbody>\n",
       "</table>\n",
       "</div>"
      ],
      "text/plain": [
       "                  centralidad_intermedio\n",
       "William Penn                    0.239995\n",
       "George Fox                      0.236833\n",
       "George Whitehead                0.126320\n",
       "Margaret Fell                   0.121068\n",
       "James Nayler                    0.104460\n",
       "Benjamin Furly                  0.064196\n",
       "Thomas Ellwood                  0.046191\n",
       "George Keith                    0.045007\n",
       "John Audland                    0.041649\n",
       "Alexander Parker                0.038937"
      ]
     },
     "execution_count": 42,
     "metadata": {},
     "output_type": "execute_result"
    }
   ],
   "source": [
    "#Centralidad de puentes\n",
    "pd.DataFrame.from_dict(nx.algorithms.centrality.betweenness_centrality(graph), \n",
    "                       orient='index', \n",
    "                       columns = ['centralidad_intermedio'])\\\n",
    "            .sort_values(['centralidad_intermedio'], \n",
    "                         ascending = False)\\\n",
    "            .head(10)"
   ]
  },
  {
   "cell_type": "code",
   "execution_count": null,
   "id": "426250b8",
   "metadata": {},
   "outputs": [],
   "source": []
  }
 ],
 "metadata": {
  "kernelspec": {
   "display_name": "Python 3 (ipykernel)",
   "language": "python",
   "name": "python3"
  },
  "language_info": {
   "codemirror_mode": {
    "name": "ipython",
    "version": 3
   },
   "file_extension": ".py",
   "mimetype": "text/x-python",
   "name": "python",
   "nbconvert_exporter": "python",
   "pygments_lexer": "ipython3",
   "version": "3.9.12"
  }
 },
 "nbformat": 4,
 "nbformat_minor": 5
}
